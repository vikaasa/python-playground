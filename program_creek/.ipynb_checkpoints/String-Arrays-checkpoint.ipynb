{
 "cells": [
  {
   "cell_type": "markdown",
   "metadata": {},
   "source": [
    "# String/Arrays"
   ]
  },
  {
   "cell_type": "markdown",
   "metadata": {},
   "source": [
    "## 7. Merge Interval"
   ]
  },
  {
   "cell_type": "code",
   "execution_count": null,
   "metadata": {
    "collapsed": false
   },
   "outputs": [],
   "source": [
    "a = [[1,3],[2,6],[8,10],[15,18]]\n",
    "out = []\n",
    "for i in sorted(a):\n",
    "    if out and i[0]<= out[-1][1]:\n",
    "        out[-1][1]=max(out[-1][1],i[1])\n",
    "        print out\n",
    "    else:\n",
    "        out += i,\n",
    "        print out"
   ]
  },
  {
   "cell_type": "code",
   "execution_count": null,
   "metadata": {
    "collapsed": false
   },
   "outputs": [],
   "source": [
    "out"
   ]
  },
  {
   "cell_type": "markdown",
   "metadata": {},
   "source": [
    "## 6. Wildcard Matching"
   ]
  },
  {
   "cell_type": "code",
   "execution_count": null,
   "metadata": {
    "collapsed": true
   },
   "outputs": [],
   "source": [
    "s = \"aa\"\n",
    "p = \"*b\""
   ]
  },
  {
   "cell_type": "code",
   "execution_count": null,
   "metadata": {
    "collapsed": false
   },
   "outputs": [],
   "source": [
    "def blah():\n",
    "    if len(p) - p.count('*') > len(s):\n",
    "        return False\n",
    "        m, n = len(s), len(p)\n",
    "        i = j = 0\n",
    "        star = match = None\n",
    "        while i < m:\n",
    "            if j < n and (p[j] == '?' or s[i] == p[j]):\n",
    "                i += 1\n",
    "                j += 1\n",
    "\n",
    "            elif j < n and p[j] == '*':\n",
    "                star = j\n",
    "                j += 1\n",
    "                match = i\n",
    "\n",
    "            elif star is not None:\n",
    "                j = star + 1\n",
    "                match += 1\n",
    "                i = match\n",
    "\n",
    "            else:\n",
    "                return False\n",
    "\n",
    "        return all(p[k] == '*' for k in range(j, n))"
   ]
  },
  {
   "cell_type": "code",
   "execution_count": null,
   "metadata": {
    "collapsed": false
   },
   "outputs": [],
   "source": [
    "a = blah()\n",
    "a"
   ]
  },
  {
   "cell_type": "markdown",
   "metadata": {
    "collapsed": true
   },
   "source": [
    "## 9. a) TwoSum"
   ]
  },
  {
   "cell_type": "code",
   "execution_count": 13,
   "metadata": {
    "collapsed": true
   },
   "outputs": [],
   "source": [
    "a = [1,5,3,4,2]\n",
    "target = 2"
   ]
  },
  {
   "cell_type": "code",
   "execution_count": 14,
   "metadata": {
    "collapsed": false
   },
   "outputs": [
    {
     "data": {
      "text/plain": [
       "0"
      ]
     },
     "execution_count": 14,
     "metadata": {},
     "output_type": "execute_result"
    }
   ],
   "source": [
    "def twosum(a,k):\n",
    "    hash_map = {}\n",
    "    total = sum(a)\n",
    "    count = 0\n",
    "    for i in range(len(a)):\n",
    "        if a[i] in hash_map:\n",
    "            print hash_map[a[i]], i\n",
    "            count+=1\n",
    "        else:\n",
    "            hash_map[target - a[i]]=i\n",
    "    return count\n",
    "\n",
    "twosum(a,target)  "
   ]
  },
  {
   "cell_type": "markdown",
   "metadata": {},
   "source": [
    "## 9. b) Three sum"
   ]
  },
  {
   "cell_type": "code",
   "execution_count": null,
   "metadata": {
    "collapsed": true
   },
   "outputs": [],
   "source": [
    "a = [-1,-2,3,4,5]\n",
    "target = 0"
   ]
  },
  {
   "cell_type": "code",
   "execution_count": null,
   "metadata": {
    "collapsed": false
   },
   "outputs": [],
   "source": [
    "def threeSum(nums):\n",
    "    if len(nums) <3: \n",
    "        return []\n",
    "    elif len(nums) == 3:\n",
    "        if sum(nums) == 0:\n",
    "            return [sorted(nums)]\n",
    "    nums.sort()\n",
    "    res = []\n",
    "    for i in list(range(len(nums)-2)):\n",
    "        if i > 0 and nums[i] == nums[i-1]: # avoid duplication\n",
    "            continue\n",
    "        j = i + 1\n",
    "        k = len(nums) - 1\n",
    "        while j < k:\n",
    "            if j > i + 1 and nums[j] == nums[j-1]: # avoid duplication\n",
    "                j += 1\n",
    "                continue\n",
    "            if k < len(nums) - 1 and nums[k] == nums[k+1]: # avoid duplication\n",
    "                k -= 1\n",
    "                continue\n",
    "            if nums[i] + nums[j] + nums[k] == 0:\n",
    "                res.append([nums[i],nums[j],nums[k]])\n",
    "            if nums[i] + nums[j] + nums[k] < 0:\n",
    "                j += 1\n",
    "            else:\n",
    "                k -= 1\n",
    "    return res"
   ]
  },
  {
   "cell_type": "code",
   "execution_count": null,
   "metadata": {
    "collapsed": false
   },
   "outputs": [],
   "source": [
    "threeSum(a)"
   ]
  },
  {
   "cell_type": "markdown",
   "metadata": {},
   "source": [
    "## 9. c) Foursum"
   ]
  },
  {
   "cell_type": "code",
   "execution_count": null,
   "metadata": {
    "collapsed": true
   },
   "outputs": [],
   "source": [
    "def twoSum(a):\n",
    "    hash_map = {}\n",
    "    total = sum(a)\n",
    "    for i in range(len(a)):\n",
    "        if a[i] in hash_map:\n",
    "            return (hash_map[a[i]], i)\n",
    "        else:\n",
    "            hash_map[target - a[i]]=i\n"
   ]
  },
  {
   "cell_type": "code",
   "execution_count": null,
   "metadata": {
    "collapsed": false
   },
   "outputs": [],
   "source": [
    "def fourSum(nums, target):\n",
    "    def findNsum(nums, target, N, result, results):\n",
    "        if len(nums) < N or N < 2 or target < nums[0]*N or target > nums[-1]*N:  # early termination\n",
    "            return\n",
    "        if N == 2: # two pointers solve sorted 2-sum problem\n",
    "            l,r = 0,len(nums)-1\n",
    "            while l < r:\n",
    "                s = nums[l] + nums[r]\n",
    "                if s == target:\n",
    "                    results.append(result + [nums[l], nums[r]])\n",
    "                    l += 1\n",
    "                    while l < r and nums[l] == nums[l-1]:\n",
    "                        l += 1\n",
    "                elif s < target:\n",
    "                    l += 1\n",
    "                else:\n",
    "                    r -= 1\n",
    "        else: # recursively reduce N\n",
    "            for i in range(len(nums)-N+1):\n",
    "                if i == 0 or (i > 0 and nums[i-1] != nums[i]):\n",
    "                    findNsum(nums[i+1:], target-nums[i], N-1, result+[nums[i]], results)\n",
    "\n",
    "    results = []\n",
    "    findNsum(sorted(nums), target, 4, [], results)\n",
    "    return results\n",
    "\n",
    "nums = [-4,-3,3,4,0,1,2]\n",
    "target = 0\n",
    "fourSum(nums, target)"
   ]
  },
  {
   "cell_type": "code",
   "execution_count": 1,
   "metadata": {
    "collapsed": true
   },
   "outputs": [],
   "source": [
    "def twoSumSorted(nums, target):\n",
    "    l,r = 0,len(nums)-1\n",
    "    while l < r:\n",
    "        s = nums[l] + nums[r]\n",
    "        if s == target:\n",
    "            return [l,r]\n",
    "        elif s < target:\n",
    "            l += 1\n",
    "        else:\n",
    "            r -= 1"
   ]
  },
  {
   "cell_type": "markdown",
   "metadata": {},
   "source": [
    "## 9d) Foursum in lists"
   ]
  },
  {
   "cell_type": "code",
   "execution_count": 2,
   "metadata": {
    "collapsed": false
   },
   "outputs": [
    {
     "name": "stdout",
     "output_type": "stream",
     "text": [
      "Counter({0: 2, 1: 1, -1: 1})\n"
     ]
    },
    {
     "data": {
      "text/plain": [
       "2"
      ]
     },
     "execution_count": 2,
     "metadata": {},
     "output_type": "execute_result"
    }
   ],
   "source": [
    "import collections\n",
    "def fourSumCount(A, B, C, D):\n",
    "    AB = collections.Counter(a+b for a in A for b in B)\n",
    "    print AB\n",
    "    return sum(AB[-c-d] for c in C for d in D)\n",
    "\n",
    "A = [ 1, 2]\n",
    "B = [-2,-1]\n",
    "C = [-1, 2]\n",
    "D = [ 0, 2]\n",
    "\n",
    "fourSumCount(A, B, C, D)"
   ]
  },
  {
   "cell_type": "markdown",
   "metadata": {},
   "source": [
    "## 10) Threesum Closest"
   ]
  },
  {
   "cell_type": "code",
   "execution_count": 16,
   "metadata": {
    "collapsed": false
   },
   "outputs": [
    {
     "name": "stdout",
     "output_type": "stream",
     "text": [
      "result: 7\n",
      "current_sum: 9 target: 8 result: 7\n",
      "current_sum - target: 1\n",
      "result - target: -1\n",
      "current_sum: 7 target: 8 result: 7\n",
      "current_sum - target: -1\n",
      "result - target: -1\n"
     ]
    },
    {
     "data": {
      "text/plain": [
       "7"
      ]
     },
     "execution_count": 16,
     "metadata": {},
     "output_type": "execute_result"
    }
   ],
   "source": [
    "a = [2,2,5,3]\n",
    "target = 8\n",
    "\n",
    "def threeSum(nums, target):\n",
    "    if len(nums) <3: \n",
    "        return None\n",
    "    elif len(nums) == 3:\n",
    "        return sum(nums)\n",
    "    nums.sort()\n",
    "    result = nums[0] + nums[1] + nums[2]\n",
    "    print \"result: \"+str(result)\n",
    "    for i in list(range(len(nums)-2)):\n",
    "        if i > 0 and nums[i] == nums[i-1]: # avoid duplication\n",
    "            continue\n",
    "        j = i + 1\n",
    "        k = len(nums) - 1\n",
    "        while j < k:\n",
    "            current_sum = nums[i] + nums[j] + nums[k]\n",
    "            print \"current_sum: \" + str(current_sum) + \" target: \" + str(target) + \" result: \" + str(result)\n",
    "            print \"current_sum - target: \"+str(current_sum - target)\n",
    "            print \"result - target: \"+str(result - target)\n",
    "            if j > i + 1 and nums[j] == nums[j-1]: # avoid duplication\n",
    "                j += 1\n",
    "                continue\n",
    "            if k < len(nums) - 1 and nums[k] == nums[k+1]: # avoid duplication\n",
    "                k -= 1\n",
    "                continue\n",
    "            if abs(current_sum - target) < abs(result - target):\n",
    "                result = current_sum\n",
    "                print \"modifying\"\n",
    "            if current_sum < target:\n",
    "                j += 1\n",
    "            else:\n",
    "                k -= 1\n",
    "    return result\n",
    "\n",
    "threeSum(a, 8)"
   ]
  },
  {
   "cell_type": "markdown",
   "metadata": {},
   "source": [
    "## 3. Isomorphic Strings"
   ]
  },
  {
   "cell_type": "code",
   "execution_count": 16,
   "metadata": {
    "collapsed": false
   },
   "outputs": [
    {
     "data": {
      "text/plain": [
       "False"
      ]
     },
     "execution_count": 16,
     "metadata": {},
     "output_type": "execute_result"
    }
   ],
   "source": [
    "s, t= \"eggquhksdu@@:'h82shss\", \"add\"\n",
    "map(s.find, s) == map(t.find, t)\n"
   ]
  },
  {
   "cell_type": "markdown",
   "metadata": {},
   "source": [
    "## 4. Word Ladder"
   ]
  },
  {
   "cell_type": "code",
   "execution_count": 18,
   "metadata": {
    "collapsed": true
   },
   "outputs": [],
   "source": [
    "beginWord = \"hit\"\n",
    "endWord = \"cog\"\n",
    "wordList = [\"hot\",\"dot\",\"dog\",\"lot\",\"log\"]"
   ]
  },
  {
   "cell_type": "code",
   "execution_count": 20,
   "metadata": {
    "collapsed": true
   },
   "outputs": [],
   "source": [
    "def findLadders(begin, end, words_list):\n",
    "    \"\"\"\n",
    "    :type beginWord: str\n",
    "    :type endWord: str\n",
    "    :type wordlist: Set[str]\n",
    "    :rtype: List[List[int]]\n",
    "    \"\"\"\n",
    "    def construct_paths(source, dest, tree):\n",
    "        if source == dest: \n",
    "            return [[source]]\n",
    "        return [[source] + path for succ in tree[source]\n",
    "                                for path in construct_paths(succ, dest, tree)]\n",
    "\n",
    "    def add_path(tree, word, neigh, is_forw):\n",
    "        if is_forw: tree[word]  += neigh,\n",
    "        else:       tree[neigh] += word,\n",
    "\n",
    "    def bfs_level(this_lev, oth_lev, tree, is_forw, words_set):\n",
    "        if not this_lev: return False\n",
    "        if len(this_lev) > len(oth_lev):\n",
    "            return bfs_level(oth_lev, this_lev, tree, not is_forw, words_set)\n",
    "        for word in (this_lev | oth_lev):\n",
    "            words_set.discard(word)\n",
    "        next_lev, done = set(), False\n",
    "        while this_lev:\n",
    "            word = this_lev.pop()\n",
    "            for c in string.ascii_lowercase:\n",
    "                for index in range(len(word)):\n",
    "                    neigh = word[:index] + c + word[index+1:]\n",
    "                    if neigh in oth_lev:\n",
    "                        done = True\n",
    "                        add_path(tree, word, neigh, is_forw)                \n",
    "                    if not done and neigh in words_set:\n",
    "                        next_lev.add(neigh)\n",
    "                        add_path(tree, word, neigh, is_forw)\n",
    "        return done or bfs_level(next_lev, oth_lev, tree, is_forw, words_set)\n",
    "\n",
    "    tree, path, paths = collections.defaultdict(list), [begin], []\n",
    "    is_found = bfs_level(set([begin]), set([end]), tree, True, words_list)\n",
    "    return construct_paths(begin, end, tree)"
   ]
  },
  {
   "cell_type": "markdown",
   "metadata": {},
   "source": [
    "## 5. Median of Two Sorted Arrays:"
   ]
  },
  {
   "cell_type": "code",
   "execution_count": 19,
   "metadata": {
    "collapsed": false
   },
   "outputs": [
    {
     "data": {
      "text/plain": [
       "3.0"
      ]
     },
     "execution_count": 19,
     "metadata": {},
     "output_type": "execute_result"
    }
   ],
   "source": [
    "a = float(5)\n",
    "import math\n",
    "math.ceil(a/2)"
   ]
  },
  {
   "cell_type": "code",
   "execution_count": 22,
   "metadata": {
    "collapsed": false
   },
   "outputs": [
    {
     "data": {
      "text/plain": [
       "2.5"
      ]
     },
     "execution_count": 22,
     "metadata": {},
     "output_type": "execute_result"
    }
   ],
   "source": [
    "float(5)/2"
   ]
  },
  {
   "cell_type": "code",
   "execution_count": 33,
   "metadata": {
    "collapsed": true
   },
   "outputs": [],
   "source": [
    "a = []\n",
    "b = [2,5]"
   ]
  },
  {
   "cell_type": "code",
   "execution_count": 43,
   "metadata": {
    "collapsed": false
   },
   "outputs": [
    {
     "name": "stdout",
     "output_type": "stream",
     "text": [
      "[2, 5]\n",
      "2.0\n"
     ]
    },
    {
     "data": {
      "text/plain": [
       "1"
      ]
     },
     "execution_count": 43,
     "metadata": {},
     "output_type": "execute_result"
    }
   ],
   "source": [
    "merged = sorted(a+b)\n",
    "print merged\n",
    "len_merged = float(len(merged))\n",
    "print len_merged\n",
    "int(math.floor(len_merged/2))"
   ]
  },
  {
   "cell_type": "code",
   "execution_count": 42,
   "metadata": {
    "collapsed": false
   },
   "outputs": [
    {
     "data": {
      "text/plain": [
       "1"
      ]
     },
     "execution_count": 42,
     "metadata": {},
     "output_type": "execute_result"
    }
   ],
   "source": [
    "int(len_merged/2)"
   ]
  },
  {
   "cell_type": "code",
   "execution_count": 46,
   "metadata": {
    "collapsed": false
   },
   "outputs": [
    {
     "name": "stdout",
     "output_type": "stream",
     "text": [
      "a\n",
      "3.5\n"
     ]
    }
   ],
   "source": [
    "if len_merged%2==0:\n",
    "    print \"a\"\n",
    "    print float(merged[int((len_merged-1)/2)]+merged[int((len_merged-1)/2)+1])/2\n",
    "else: \n",
    "    #print \"b\"\n",
    "    print merged[int(math.ceil(len_merged-1/2))]"
   ]
  },
  {
   "cell_type": "code",
   "execution_count": null,
   "metadata": {
    "collapsed": true
   },
   "outputs": [],
   "source": []
  }
 ],
 "metadata": {
  "kernelspec": {
   "display_name": "Python 2",
   "language": "python",
   "name": "python2"
  },
  "language_info": {
   "codemirror_mode": {
    "name": "ipython",
    "version": 2
   },
   "file_extension": ".py",
   "mimetype": "text/x-python",
   "name": "python",
   "nbconvert_exporter": "python",
   "pygments_lexer": "ipython2",
   "version": "2.7.12"
  }
 },
 "nbformat": 4,
 "nbformat_minor": 0
}
