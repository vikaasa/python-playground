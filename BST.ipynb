{
 "cells": [
  {
   "cell_type": "code",
   "execution_count": 10,
   "metadata": {
    "collapsed": false
   },
   "outputs": [],
   "source": [
    "class Node:\n",
    "    def __init__(self, data):\n",
    "        self.left = None\n",
    "        self.right = None\n",
    "        self.data = data\n",
    "\n",
    "class Tree:\n",
    "    def __init__(self):\n",
    "        self.root = None\n",
    "\n",
    "    def getRoot(self):\n",
    "        return self.root\n",
    "\n",
    "    def add(self, data):\n",
    "        if(self.root == None):\n",
    "            self.root = Node(data)\n",
    "        else:\n",
    "            self.add_to_tree(data, self.root)\n",
    "\n",
    "    def add_to_tree(self, data, node):\n",
    "        if(data < node.data):\n",
    "            if(node.left != None):\n",
    "                self.add_to_tree(data, node.left)\n",
    "            else:\n",
    "                node.left = Node(data)\n",
    "        else:\n",
    "            if(node.right != None):\n",
    "                self.add_to_tree(data, node.right)\n",
    "            else:\n",
    "                node.right = Node(data)\n",
    "    \n",
    "    def call_initialize_sorted_BST(self, node_list):\n",
    "        sorted_node_list = sorted(node_list)\n",
    "        #print(sorted_node_list)\n",
    "        start = 0\n",
    "        #print(start)\n",
    "        end = len(sorted_node_list)-1\n",
    "        a = self.initialize_sorted_BST(sorted_node_list, start, end)\n",
    "        self.root = a\n",
    "        \n",
    "        \n",
    "    def initialize_sorted_BST(self, node_list, start, end):\n",
    "        if(end<start):\n",
    "            return None\n",
    "        else:\n",
    "            mid = (start + end) / 2\n",
    "            node = Node(node_list[mid])\n",
    "            node.left = self.initialize_sorted_BST(node_list, start, mid-1)\n",
    "            node.right = self.initialize_sorted_BST(node_list, mid+1, end)\n",
    "            return node\n",
    "\n",
    "    def call_in_order_traversal(self):\n",
    "        print self.root.data\n",
    "        self.in_order_traversal(self.root)\n",
    "        \n",
    "    def in_order_traversal(self, root):\n",
    "        if root == None:\n",
    "            return \n",
    "        else:\n",
    "            self.in_order_traversal(root.left)\n",
    "            print root.data\n",
    "            self.in_order_traversal(root.right)\n",
    "            \n",
    "    def find(self, data):\n",
    "        if(self.root != None):\n",
    "            print(\"=====================\")\n",
    "            #print(self.root.data)\n",
    "            a = self.find_in_tree(data, self.root)\n",
    "            #print(a)\n",
    "            return a\n",
    "        else:\n",
    "            print(\"Return case\")\n",
    "            return None\n",
    "\n",
    "    def find_in_tree(self, data, node):\n",
    "        #print(node.data)\n",
    "        if(data == node.data):\n",
    "            #print(node.data)\n",
    "            #print(node)\n",
    "            return node\n",
    "        elif(data < node.data and node.left != None):\n",
    "            return self.find_in_tree(data, node.left)\n",
    "        elif(data > node.data and node.right != None):\n",
    "            return self.find_in_tree(data, node.right)\n",
    "        else:\n",
    "            print(\"its going to None\")\n",
    "            return None\n",
    "    '''    \n",
    "    def findNextPrev(self, root, result, key):\n",
    "        if root == None:\n",
    "            return None\n",
    "        if root.data == key:\n",
    "            if root.left != None:\n",
    "                tmp = root.left\n",
    "                while(tmp.right! = None):\n",
    "                    tmp = tmp.right\n",
    "                result[0] = tmp\n",
    "            if root.right != None:\n",
    "                tmp = root.right\n",
    "                while(tmp.left! = None):\n",
    "                    tmp = tmp.right\n",
    "                result[1] = tmp\n",
    "            return result\n",
    "        if root.data > key:\n",
    "            result[1] = root\n",
    "            self.findNextPrev(root.left, result, key)\n",
    "        else:\n",
    "            result[0] = root\n",
    "            self.findNextPrev(root.right, result, key)\n",
    "        return result\n",
    "        '''        \n",
    "        \n",
    "    def deleteTree(self):\n",
    "        # garbage collector will do this for us. \n",
    "        self.root = None\n",
    "\n",
    "    def printTree(self):\n",
    "        if(self.root != None):\n",
    "            self.callPrintTree(self.root)\n",
    "    \n",
    "    def height(self):\n",
    "        if(self.root == None):\n",
    "            return 0\n",
    "        else:\n",
    "            return self.call_tree_height(self.root)\n",
    "    \n",
    "    def call_tree_height(self, node):\n",
    "        if(node == None):\n",
    "            return 0\n",
    "        else:\n",
    "            lheight = self.call_tree_height(node.left)\n",
    "            rheight = self.call_tree_height(node.right)\n",
    "            if lheight > rheight:\n",
    "                return lheight+1\n",
    "            else:\n",
    "                return rheight+1\n",
    "\n",
    "    def callMinDepth(self):\n",
    "        self.minDepth(self.root)\n",
    "    def minDepth(self, root):\n",
    "        if not root:\n",
    "            return 0\n",
    "        if root.left==None or root.right==None:\n",
    "            return self.minDepth(root.left)+self.minDepth(root.right)+1\n",
    "        return min(self.minDepth(root.right),self.minDepth(root.left))+1\n",
    "    \n",
    "    def printLevelOrder(self):\n",
    "        level=0\n",
    "        list_of_lists=[]\n",
    "        #h = self.height()\n",
    "        #for i in range(1, h+1):\n",
    "        \n",
    "        self.printGivenLevel(self.root, list_of_lists, level)\n",
    "        print(list_of_lists)\n",
    "        return list_of_lists\n",
    "\n",
    "    # Print nodes at a given level\n",
    "    def printGivenLevel(self, node, list_of_lists, level):\n",
    "        if node is None:\n",
    "            return\n",
    "        current_level_list = []\n",
    "        if level == len(list_of_lists):\n",
    "            list_of_lists.append(current_level_list)\n",
    "        else:\n",
    "            current_level_list = list_of_lists[level]\n",
    "        current_level_list.append(node.data)\n",
    "        self.printGivenLevel(node.left, list_of_lists, level+1)\n",
    "        self.printGivenLevel(node.right, list_of_lists, level+1)\n",
    "            \n",
    "    def callPrintTree(self, node):\n",
    "        if(node != None):\n",
    "            self.callPrintTree(node.left)\n",
    "            print str(node.data) + ' '\n",
    "            self.callPrintTree(node.right)"
   ]
  },
  {
   "cell_type": "code",
   "execution_count": 9,
   "metadata": {
    "collapsed": false
   },
   "outputs": [
    {
     "name": "stdout",
     "output_type": "stream",
     "text": [
      "[[5], [2, 7], [3, 9]]\n",
      "5\n"
     ]
    }
   ],
   "source": [
    "tree = Tree()\n",
    "a = [2,3,5,7,9]\n",
    "tree.call_initialize_sorted_BST(a)\n",
    "tree.printLevelOrder()\n",
    "tree.call_in_order_traversal()"
   ]
  },
  {
   "cell_type": "code",
   "execution_count": 30,
   "metadata": {
    "collapsed": false
   },
   "outputs": [
    {
     "name": "stdout",
     "output_type": "stream",
     "text": [
      "[[3], [0, 4], [2, 8], [1]]\n",
      "=================\n",
      "a:\n",
      "4\n",
      "3\n",
      "0\n",
      "1\n",
      "2\n",
      "3\n",
      "4\n",
      "8\n"
     ]
    }
   ],
   "source": [
    "tree = Tree()\n",
    "tree.add(3)\n",
    "tree.add(4)\n",
    "tree.add(0)\n",
    "tree.add(8)\n",
    "tree.add(2)\n",
    "tree.add(1)\n",
    "tree.printLevelOrder()\n",
    "\n",
    "#print (tree.find(3)).data\n",
    "#print(tree.find(4)).data\n",
    "#tree.deleteTree()\n",
    "#tree.printTree()\n",
    "print(\"=================\")\n",
    "a=tree.height()\n",
    "print(\"a:\")\n",
    "print(a)\n",
    "\n",
    "tree.call_in_order_traversal()"
   ]
  },
  {
   "cell_type": "code",
   "execution_count": 31,
   "metadata": {
    "collapsed": false
   },
   "outputs": [
    {
     "ename": "IndentationError",
     "evalue": "unexpected indent (<ipython-input-31-4ab4ada533c3>, line 2)",
     "output_type": "error",
     "traceback": [
      "\u001b[1;36m  File \u001b[1;32m\"<ipython-input-31-4ab4ada533c3>\"\u001b[1;36m, line \u001b[1;32m2\u001b[0m\n\u001b[1;33m    0   4\u001b[0m\n\u001b[1;37m    ^\u001b[0m\n\u001b[1;31mIndentationError\u001b[0m\u001b[1;31m:\u001b[0m unexpected indent\n"
     ]
    }
   ],
   "source": [
    "\"\"\"\n",
    "     3 \n",
    "   0   4 \n",
    "     2   8\n",
    "    1\n",
    "\"\"\""
   ]
  },
  {
   "cell_type": "markdown",
   "metadata": {},
   "source": [
    "# Tree equality"
   ]
  },
  {
   "cell_type": "code",
   "execution_count": 89,
   "metadata": {
    "collapsed": false
   },
   "outputs": [
    {
     "name": "stdout",
     "output_type": "stream",
     "text": [
      "[[7], [4, 9], [2, 5, 8, 13]]\n",
      "[[7], [4, 9], [2, 5, 8, 13]]\n"
     ]
    },
    {
     "data": {
      "text/plain": [
       "[[7], [4, 9], [2, 5, 8, 13]]"
      ]
     },
     "execution_count": 89,
     "metadata": {},
     "output_type": "execute_result"
    }
   ],
   "source": [
    "initialize_list = [2,5,4,7,8,9,13]\n",
    "tree1 = Tree()\n",
    "tree1.call_initialize_sorted_BST(initialize_list)\n",
    "tree1.printLevelOrder()\n",
    "tree2 = tree1\n",
    "#tree2.add(78)\n",
    "tree2.printLevelOrder()"
   ]
  },
  {
   "cell_type": "code",
   "execution_count": 90,
   "metadata": {
    "collapsed": false
   },
   "outputs": [
    {
     "name": "stdout",
     "output_type": "stream",
     "text": [
      "empty\n"
     ]
    }
   ],
   "source": [
    "x = None\n",
    "if not x:\n",
    "    print \"empty\""
   ]
  },
  {
   "cell_type": "code",
   "execution_count": 91,
   "metadata": {
    "collapsed": false
   },
   "outputs": [
    {
     "ename": "IndentationError",
     "evalue": "unexpected indent (<ipython-input-91-1ef9bec85d76>, line 2)",
     "output_type": "error",
     "traceback": [
      "\u001b[1;36m  File \u001b[1;32m\"<ipython-input-91-1ef9bec85d76>\"\u001b[1;36m, line \u001b[1;32m2\u001b[0m\n\u001b[1;33m    4   9\u001b[0m\n\u001b[1;37m    ^\u001b[0m\n\u001b[1;31mIndentationError\u001b[0m\u001b[1;31m:\u001b[0m unexpected indent\n"
     ]
    }
   ],
   "source": [
    "      7\n",
    "    4   9\n",
    "  2  5 8  13\n",
    "             78"
   ]
  },
  {
   "cell_type": "code",
   "execution_count": 92,
   "metadata": {
    "collapsed": false
   },
   "outputs": [
    {
     "name": "stdout",
     "output_type": "stream",
     "text": [
      "0 is false.\n",
      "An empty list is false.\n",
      "An empty tuple is false.\n",
      "An empty dict is false.\n",
      "An empty string is false.\n"
     ]
    }
   ],
   "source": [
    "if not True:\n",
    "    print \"False is false.\"\n",
    "if not 0:\n",
    "    print \"0 is false.\"\n",
    "if not []:\n",
    "    print \"An empty list is false.\"\n",
    "if not ():\n",
    "    print \"An empty tuple is false.\"\n",
    "if not {}:\n",
    "    print \"An empty dict is false.\"\n",
    "if not \"\":\n",
    "    print \"An empty string is false.\""
   ]
  },
  {
   "cell_type": "code",
   "execution_count": 93,
   "metadata": {
    "collapsed": true
   },
   "outputs": [],
   "source": [
    "def isSameTree(p,q):\n",
    "    #print p.data, q.data\n",
    "    if not q and not p:\n",
    "        print \"first True\"\n",
    "        return True\n",
    "    elif not p or not q:\n",
    "        print \"second False\"\n",
    "        return False\n",
    "    elif p.data!=q.data:\n",
    "        print \"value False\"\n",
    "        return False\n",
    "    else:\n",
    "        return isSameTree(p.left,q.left) and isSameTree(p.right,q.right)"
   ]
  },
  {
   "cell_type": "code",
   "execution_count": 94,
   "metadata": {
    "collapsed": false
   },
   "outputs": [
    {
     "name": "stdout",
     "output_type": "stream",
     "text": [
      "7 7\n",
      "first True\n",
      "first True\n",
      "first True\n",
      "first True\n",
      "first True\n",
      "first True\n",
      "first True\n",
      "first True\n"
     ]
    },
    {
     "data": {
      "text/plain": [
       "True"
      ]
     },
     "execution_count": 94,
     "metadata": {},
     "output_type": "execute_result"
    }
   ],
   "source": [
    "checking_tree_equality(tree1.root, tree2.root)"
   ]
  },
  {
   "cell_type": "code",
   "execution_count": 53,
   "metadata": {
    "collapsed": true
   },
   "outputs": [],
   "source": [
    "a = Node(1)\n",
    "b = Node(1)"
   ]
  },
  {
   "cell_type": "code",
   "execution_count": 54,
   "metadata": {
    "collapsed": false
   },
   "outputs": [],
   "source": [
    "if not a and not b:\n",
    "    print \"blah\""
   ]
  },
  {
   "cell_type": "code",
   "execution_count": null,
   "metadata": {
    "collapsed": true
   },
   "outputs": [],
   "source": []
  }
 ],
 "metadata": {
  "kernelspec": {
   "display_name": "Python 2",
   "language": "python",
   "name": "python2"
  },
  "language_info": {
   "codemirror_mode": {
    "name": "ipython",
    "version": 2
   },
   "file_extension": ".py",
   "mimetype": "text/x-python",
   "name": "python",
   "nbconvert_exporter": "python",
   "pygments_lexer": "ipython2",
   "version": "2.7.12"
  }
 },
 "nbformat": 4,
 "nbformat_minor": 0
}
