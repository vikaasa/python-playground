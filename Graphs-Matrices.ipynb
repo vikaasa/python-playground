{
 "cells": [
  {
   "cell_type": "markdown",
   "metadata": {},
   "source": [
    "## Count Islands"
   ]
  },
  {
   "cell_type": "code",
   "execution_count": 1,
   "metadata": {
    "collapsed": false
   },
   "outputs": [
    {
     "data": {
      "text/plain": [
       "[[1, 1, 1, 1, 0], [1, 1, 0, 1, 0], [1, 1, 0, 0, 0], [0, 0, 0, 0, 0]]"
      ]
     },
     "execution_count": 1,
     "metadata": {},
     "output_type": "execute_result"
    }
   ],
   "source": [
    "a = \"\"\"11110\n",
    "11010\n",
    "11000\n",
    "00000\"\"\"\n",
    "a = [[int(j) for j in i] for i in a.split(\"\\n\")]\n",
    "a\n",
    "\n",
    "b = \"\"\"11000\n",
    "11000\n",
    "00100\n",
    "00011\"\"\"\n",
    "a"
   ]
  },
  {
   "cell_type": "code",
   "execution_count": 2,
   "metadata": {
    "collapsed": false
   },
   "outputs": [
    {
     "data": {
      "text/plain": [
       "1"
      ]
     },
     "execution_count": 2,
     "metadata": {},
     "output_type": "execute_result"
    }
   ],
   "source": [
    "def countIslands(m):\n",
    "    if not m:\n",
    "        return 0\n",
    "    count=0\n",
    "    for i in range(len(m)):\n",
    "        for j in range(len(m[0])):\n",
    "            if m[i][j] == 1:\n",
    "                count+=1\n",
    "                stack = list()\n",
    "                stack.append([i,j])\n",
    "                while len(stack)!=0:\n",
    "                    [p,q]=stack.pop()\n",
    "                    if p>=1 and m[p-1][q]==1:\n",
    "                        stack.append([p-1,q])\n",
    "                    if p<len(m)-1 and m[p+1][q]==1:\n",
    "                        stack.append([p+1,q])\n",
    "                    if q>=1 and m[p][q-1]==1:\n",
    "                        stack.append([p,q-1])\n",
    "                    if q<len(m[0])-1 and m[p][q+1]==1:\n",
    "                        stack.append([p,q+1])\n",
    "                    m[p][q]='#'\n",
    "    return count\n",
    "countIslands(a)"
   ]
  },
  {
   "cell_type": "code",
   "execution_count": null,
   "metadata": {
    "collapsed": false
   },
   "outputs": [],
   "source": [
    "class node:\n",
    "    neighbours = None\n",
    "    color = None\n",
    "    color_set = collections.OrderedDict()\n",
    "    color_set[0] = 0 \n",
    "    def assignColor(node):\n",
    "        if self.color == None:\n",
    "            for i in self.color_set:\n",
    "                if isSuitable(node, i):\n",
    "                    self.color = i\n",
    "            else:\n",
    "                self.color_set[max(self.color_set)+1] = max(self.color_set)+1\n",
    "                self.color = max(self.color_set)+1\n",
    "            for x in node.neighbours:\n",
    "                assignColor(x, self.color_set)\n",
    "\n",
    "\n",
    "    def isSuitable(ele,c):\n",
    "        for x in ele.neighbours:\n",
    "            if c == x.color:\n",
    "                return False\n",
    "        return True\n",
    "\n",
    "\n",
    "a = node()\n",
    "b = node()\n",
    "c = node()\n",
    "d = node()\n",
    "a.neighbours = [b,c]\n",
    "b.neighbours = [a,d,c]\n",
    "c.neighbours = [d,a,b]\n",
    "d.neighbours = [b,c]\n"
   ]
  },
  {
   "cell_type": "markdown",
   "metadata": {},
   "source": [
    "## Maze Routing"
   ]
  },
  {
   "cell_type": "code",
   "execution_count": 3,
   "metadata": {
    "collapsed": false
   },
   "outputs": [
    {
     "data": {
      "text/plain": [
       "[['S', '0', 'X', '0'],\n",
       " ['0', '0', 'X', '0'],\n",
       " ['0', '0', 'X', '0'],\n",
       " ['0', '0', '0', 'D'],\n",
       " ['0', '0', '0', '0']]"
      ]
     },
     "execution_count": 3,
     "metadata": {},
     "output_type": "execute_result"
    }
   ],
   "source": [
    "a = [['S','0','X','0'], ['0','0','X','0'], ['0','0','X','0'], ['0','0','0','D'], ['0','0','0','0']]\n",
    "a\n",
    " "
   ]
  },
  {
   "cell_type": "code",
   "execution_count": 20,
   "metadata": {
    "collapsed": false
   },
   "outputs": [
    {
     "name": "stdout",
     "output_type": "stream",
     "text": [
      "0 0\n",
      "[0, 0, 0]\n",
      "found D (3, 2, 3, 3)\n"
     ]
    },
    {
     "data": {
      "text/plain": [
       "([[2, 1, 'X', '0'],\n",
       "  [1, 2, 'X', '0'],\n",
       "  [2, 3, 'X', '0'],\n",
       "  [3, 4, 5, 'D'],\n",
       "  [4, 5, 6, '0']],\n",
       " {(0, 0): (0, 1),\n",
       "  (0, 1): (0, 0),\n",
       "  (1, 0): (0, 0),\n",
       "  (1, 1): (0, 1),\n",
       "  (2, 0): (1, 0),\n",
       "  (2, 1): (1, 1),\n",
       "  (3, 0): (2, 0),\n",
       "  (3, 1): (2, 1),\n",
       "  (3, 2): (3, 1),\n",
       "  (3, 3): (3, 2),\n",
       "  (4, 0): (3, 0),\n",
       "  (4, 1): (3, 1),\n",
       "  (4, 2): (3, 2)})"
      ]
     },
     "execution_count": 20,
     "metadata": {},
     "output_type": "execute_result"
    }
   ],
   "source": [
    "from collections import deque\n",
    "def lee_algorithm(a, s, d):\n",
    "    i,j = s[0], s[1]\n",
    "    print i, j\n",
    "    a[i][j] = '0'\n",
    "    q = deque()\n",
    "    q += [i,j, 0],\n",
    "    print q[0]\n",
    "    hash_map = {}\n",
    "    count = 0\n",
    "    while q and [q[0][0],q[0][1]] != d and count < 30:\n",
    "        count+=1\n",
    "        #print \"q[0] is \", str(a[q[0][0]][q[0][1]]), str(q[0])\n",
    "        #print \"Count: \", str(count)\n",
    "        [i,j,q_count] = q[0]\n",
    "        if j < len(a[0])-1 and a[i][j+1] != 'X':\n",
    "            if (i,j+1) not in hash_map:\n",
    "                if a[i][j+1] == 'D':\n",
    "                    print \"found D\", str((i,j,i,j+1))\n",
    "                    hash_map[(i,j+1)] = (i,j)\n",
    "                    q+= [i,j+1, q_count+1],\n",
    "                else:\n",
    "                    hash_map[(i,j+1)]=(i,j)\n",
    "                    a[i][j+1] = q_count + 1\n",
    "                    q+= [i,j+1, q_count+1],\n",
    "                    \n",
    "        if i < len(a)-1 and a[i+1][j] != 'X':\n",
    "            if (i+1,j) not in hash_map:\n",
    "                if a[i+1][j] == 'D':\n",
    "                    hash_map[(i+1,j)] = (i,j)\n",
    "                    q+= [i+1,j, q_count+1],\n",
    "                else:\n",
    "                    hash_map[(i+1,j)] = (i,j)\n",
    "                    a[i+1][j] = q_count + 1\n",
    "                    q+= [i+1,j, q_count+1],\n",
    "            \n",
    "        if i > 0 and a[i-1][j] != 'X':\n",
    "            if (i-1,j) not in hash_map:\n",
    "                if a[i-1][j] == 'D':\n",
    "                    hash_map[(i-1,j)] = (i,j)\n",
    "                    q+= [i-1,j, q_count+1],\n",
    "                else:\n",
    "                    hash_map[(i-1,j)] = (i,j)\n",
    "                    a[i-1][j] = q_count + 1\n",
    "                    q+= [i-1,j,q_count+1],\n",
    "            \n",
    "        if j > 0 and a[i][j-1] != 'X':\n",
    "            if (i,j-1) not in hash_map:\n",
    "                if a[i][j-1] == 'D':\n",
    "                    hash_map[(i,j-1)] = (i,j)\n",
    "                    q+= [i,j-1,q_count+1],\n",
    "                else:\n",
    "                    hash_map[(i,j-1)] = (i,j)\n",
    "                    a[i][j-1] = q_count+1\n",
    "                    q+= [i,j-1, q_count+1],\n",
    "            \n",
    "        q.popleft()\n",
    "    return a, hash_map\n",
    "    \n",
    "lee_algorithm(a, [0,0], [3,3])"
   ]
  }
 ],
 "metadata": {
  "kernelspec": {
   "display_name": "Python 2",
   "language": "python",
   "name": "python2"
  },
  "language_info": {
   "codemirror_mode": {
    "name": "ipython",
    "version": 2
   },
   "file_extension": ".py",
   "mimetype": "text/x-python",
   "name": "python",
   "nbconvert_exporter": "python",
   "pygments_lexer": "ipython2",
   "version": "2.7.12"
  }
 },
 "nbformat": 4,
 "nbformat_minor": 0
}
