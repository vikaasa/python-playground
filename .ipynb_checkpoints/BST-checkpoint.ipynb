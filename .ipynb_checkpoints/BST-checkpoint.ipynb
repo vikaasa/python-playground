{
 "cells": [
  {
   "cell_type": "code",
   "execution_count": 23,
   "metadata": {
    "collapsed": false
   },
   "outputs": [],
   "source": [
    "class Node:\n",
    "    def __init__(self, data):\n",
    "        self.left = None\n",
    "        self.right = None\n",
    "        self.data = data\n",
    "\n",
    "class Tree:\n",
    "    def __init__(self):\n",
    "        self.root = None\n",
    "\n",
    "    def getRoot(self):\n",
    "        return self.root\n",
    "\n",
    "    def add(self, data):\n",
    "        if(self.root == None):\n",
    "            self.root = Node(data)\n",
    "        else:\n",
    "            self.add_to_tree(data, self.root)\n",
    "\n",
    "    def add_to_tree(self, data, node):\n",
    "        if(data < node.data):\n",
    "            if(node.left != None):\n",
    "                self.add_to_tree(data, node.left)\n",
    "            else:\n",
    "                node.left = Node(data)\n",
    "        else:\n",
    "            if(node.right != None):\n",
    "                self.add_to_tree(data, node.right)\n",
    "            else:\n",
    "                node.right = Node(data)\n",
    "    \n",
    "    def call_initialize_sorted_BST(self, node_list):\n",
    "        sorted_node_list = sorted(node_list)\n",
    "        #print(sorted_node_list)\n",
    "        start = 0\n",
    "        #print(start)\n",
    "        end = len(sorted_node_list)-1\n",
    "        a = self.initialize_sorted_BST(sorted_node_list, start, end)\n",
    "        self.root = a\n",
    "        \n",
    "        \n",
    "    def initialize_sorted_BST(self, node_list, start, end):\n",
    "        if(end<start):\n",
    "            return None\n",
    "        else:\n",
    "            mid = (start + end) / 2\n",
    "            node = Node(node_list[mid])\n",
    "            node.left = self.initialize_sorted_BST(node_list, start, mid-1)\n",
    "            node.right = self.initialize_sorted_BST(node_list, mid+1, end)\n",
    "            return node\n",
    "\n",
    "    def checkIfBalanced(self):\n",
    "        return self.callCheckIfBalanced(self, self.root)\n",
    "        \n",
    "    def callCheckIfBalanced(self, node):\n",
    "        left_height = self.callTreeHeight(node.left)\n",
    "        right_height = self.callTreeHeight(node.right)\n",
    "        return True if abs(left_height-right_height)<2 else False            \n",
    "        return callCheckIfBalanced(node.left) and callCheckIfBalanced(node.right)\n",
    "        \n",
    "    def call_in_order_traversal(self):\n",
    "        print self.root.data\n",
    "        res = []\n",
    "        self.in_order_traversal(self.root, res)\n",
    "        \n",
    "    def in_order_traversal(self, root, res):\n",
    "        if root == None:\n",
    "            return \n",
    "        else:\n",
    "            self.in_order_traversal(root.left, res)\n",
    "            print root.data\n",
    "            res.append(root.data)\n",
    "            self.in_order_traversal(root.right, res)\n",
    "            \n",
    "    def find(self, data):\n",
    "        if(self.root != None):\n",
    "            print(\"=====================\")\n",
    "            #print(self.root.data)\n",
    "            a = self.find_in_tree(data, self.root)\n",
    "            #print(a)\n",
    "            return a\n",
    "        else:\n",
    "            print(\"Return case\")\n",
    "            return None\n",
    "\n",
    "    def findInTree(self, data, node):\n",
    "        #print(node.data)\n",
    "        if(data == node.data):\n",
    "            #print(node.data)\n",
    "            #print(node)\n",
    "            return node\n",
    "        elif(data < node.data and node.left != None):\n",
    "            return self.findInTree(data, node.left)\n",
    "        elif(data > node.data and node.right != None):\n",
    "            return self.findInTree(data, node.right)\n",
    "        else:\n",
    "            print(\"its going to None\")\n",
    "            return None\n",
    "    \n",
    "    def callDeleteNode(self, target):\n",
    "        self.deleteNode(self.root, target)\n",
    "        \n",
    "    def deleteNode(self, node, k):\n",
    "        if node == None: \n",
    "            return None\n",
    "        elif node.data == k: \n",
    "            if node.left is None and node.right is None: \n",
    "                return None\n",
    "            elif node.left is None: \n",
    "                return node.right\n",
    "            elif node.right is None: \n",
    "                return node.left \n",
    "            else: \n",
    "                current_node = node.right\n",
    "                while current_node.left: \n",
    "                    current_node = current_node.left\n",
    "                node.data = current_node.data\n",
    "                node.right = self.deleteNode(node.right,node.data)\n",
    "        elif k < node.data: \n",
    "            node.left = self.deleteNode(node.left,k)\n",
    "        else: \n",
    "            node.right = self.deleteNode(node.right,k)\n",
    "        return node\n",
    "\n",
    "    def callFindNextPrev(self, target):\n",
    "        result = [None,None]\n",
    "        return self.findNextPrev(self.root, result, target)\n",
    "        \n",
    "    def findNextPrev(self, root, result, key):\n",
    "        if root == None:\n",
    "            return None\n",
    "        if root.data == key:\n",
    "            if root.left != None:\n",
    "                tmp = root.left\n",
    "                while(tmp.right!= None):\n",
    "                    tmp = tmp.right\n",
    "                result[0] = tmp\n",
    "            if root.right != None:\n",
    "                tmp = root.right\n",
    "                while(tmp.left!= None):\n",
    "                    tmp = tmp.right\n",
    "                result[1] = tmp\n",
    "            return result\n",
    "        if root.data > key:\n",
    "            result[1] = root\n",
    "            self.findNextPrev(root.left, result, key)\n",
    "        else:\n",
    "            result[0] = root\n",
    "            self.findNextPrev(root.right, result, key)\n",
    "        return result\n",
    "               \n",
    "        \n",
    "    def deleteTree(self):\n",
    "        # garbage collector will do this for us. \n",
    "        self.root = None\n",
    "\n",
    "    def printTree(self):\n",
    "        if(self.root != None):\n",
    "            self.callPrintTree(self.root)\n",
    "    \n",
    "    def height(self):\n",
    "        if(self.root == None):\n",
    "            return 0\n",
    "        else:\n",
    "            return self.callTreeHeight(self.root)\n",
    "    \n",
    "    def callTreeHeight(self, node):\n",
    "        if(node == None):\n",
    "            return 0\n",
    "        else:\n",
    "            lheight = self.callTreeHeight(node.left)\n",
    "            rheight = self.callTreeHeight(node.right)\n",
    "            if lheight > rheight:\n",
    "                return lheight+1\n",
    "            else:\n",
    "                return rheight+1\n",
    "\n",
    "    def callMinDepth(self):\n",
    "        self.minDepth(self.root)\n",
    "    def minDepth(self, root):\n",
    "        if not root:\n",
    "            return 0\n",
    "        if root.left==None or root.right==None:\n",
    "            return self.minDepth(root.left)+self.minDepth(root.right)+1\n",
    "        return min(self.minDepth(root.right),self.minDepth(root.left))+1\n",
    "    \n",
    "    def printLevelOrder(self):\n",
    "        level=0\n",
    "        list_of_lists=[]\n",
    "        #h = self.height()\n",
    "        #for i in range(1, h+1):\n",
    "        \n",
    "        self.printGivenLevel(self.root, list_of_lists, level)\n",
    "        print(list_of_lists)\n",
    "        return list_of_lists\n",
    "\n",
    "    # Print nodes at a given level\n",
    "    def printGivenLevel(self, node, list_of_lists, level):\n",
    "        if node is None:\n",
    "            return\n",
    "        current_level_list = []\n",
    "        if level == len(list_of_lists):\n",
    "            list_of_lists.append(current_level_list)\n",
    "        else:\n",
    "            current_level_list = list_of_lists[level]\n",
    "        current_level_list.append(node.data)\n",
    "        self.printGivenLevel(node.left, list_of_lists, level+1)\n",
    "        self.printGivenLevel(node.right, list_of_lists, level+1)\n",
    "            \n",
    "    def callPrintTree(self, node):\n",
    "        if(node != None):\n",
    "            self.callPrintTree(node.left)\n",
    "            print str(node.data) + ' '\n",
    "            self.callPrintTree(node.right)\n",
    "    \n",
    "    def lowestCommonAncestor(self, p,q):\n",
    "        node = self.root\n",
    "        while node:\n",
    "            if node.data > p and node.data > q:\n",
    "                node = node.left\n",
    "            elif node.data < p and node.data < q:\n",
    "                node = node.right\n",
    "            else:\n",
    "                return node\n",
    "    \n",
    "    def findShortestRoute(self, p,q):\n",
    "        node = self.lowestCommonAncestor(p,q)\n",
    "        p_depth = self.findDepthToNode(node,p)\n",
    "        q_depth = self.findDepthToNode(node,q)\n",
    "        return p_depth+q_depth\n",
    "        \n",
    "    def findDepthToNode(self, node, k):\n",
    "        if node.data==k:\n",
    "            return 0\n",
    "        elif node.data>k:\n",
    "            return self.findDepthToNode(node.left, k)+1\n",
    "        else:\n",
    "            return self.findDepthToNode(node.right, k)+1\n",
    "        "
   ]
  },
  {
   "cell_type": "code",
   "execution_count": 27,
   "metadata": {
    "collapsed": false
   },
   "outputs": [
    {
     "name": "stdout",
     "output_type": "stream",
     "text": [
      "[[5], [3, 6], [1, 4], [2]]\n",
      "3\n",
      "0\n"
     ]
    }
   ],
   "source": [
    "tree = Tree()\n",
    "tree.add(5)\n",
    "tree.add(6)\n",
    "tree.add(3)\n",
    "tree.add(1)\n",
    "tree.add(2)\n",
    "tree.add(4)\n",
    "tree.printLevelOrder()\n",
    "print tree.lowestCommonAncestor(3,3).data\n",
    "print tree.findShortestRoute(3,3)"
   ]
  },
  {
   "cell_type": "code",
   "execution_count": 25,
   "metadata": {
    "collapsed": false
   },
   "outputs": [
    {
     "name": "stdout",
     "output_type": "stream",
     "text": [
      "[[5], [2, 7], [3, 9]]\n",
      "5\n",
      "2\n",
      "3\n",
      "5\n",
      "7\n",
      "9\n",
      "None\n",
      "[[7], [2, 9], [3]]\n"
     ]
    },
    {
     "data": {
      "text/plain": [
       "[[7], [2, 9], [3]]"
      ]
     },
     "execution_count": 25,
     "metadata": {},
     "output_type": "execute_result"
    }
   ],
   "source": [
    "tree = Tree()\n",
    "a = [2,3,5,7,9]\n",
    "tree.call_initialize_sorted_BST(a)\n",
    "tree.printLevelOrder()\n",
    "print tree.call_in_order_traversal()\n",
    "tree\n",
    "tree.callFindNextPrev(4)\n",
    "tree.callDeleteNode(5)\n",
    "tree.printLevelOrder()\n"
   ]
  },
  {
   "cell_type": "code",
   "execution_count": 4,
   "metadata": {
    "collapsed": false
   },
   "outputs": [
    {
     "name": "stdout",
     "output_type": "stream",
     "text": [
      "[[3], [0, 4], [2, 8], [1]]\n",
      "=================\n",
      "a:\n",
      "4\n",
      "3\n",
      "0\n",
      "1\n",
      "2\n",
      "3\n",
      "4\n",
      "8\n"
     ]
    }
   ],
   "source": [
    "tree = Tree()\n",
    "tree.add(3)\n",
    "tree.add(4)\n",
    "tree.add(0)\n",
    "tree.add(8)\n",
    "tree.add(2)\n",
    "tree.add(1)\n",
    "tree.printLevelOrder()\n",
    "#print (tree.find(3)).data\n",
    "#print(tree.find(4)).data\n",
    "#tree.deleteTree()\n",
    "#tree.printTree()\n",
    "print(\"=================\")\n",
    "a=tree.height()\n",
    "print(\"a:\")\n",
    "print(a)\n",
    "\n",
    "tree.call_in_order_traversal()"
   ]
  },
  {
   "cell_type": "raw",
   "metadata": {},
   "source": []
  },
  {
   "cell_type": "code",
   "execution_count": 83,
   "metadata": {
    "collapsed": false
   },
   "outputs": [
    {
     "data": {
      "text/plain": [
       "'\\n     3 \\n   0   4 \\n     2   8\\n    1\\n'"
      ]
     },
     "execution_count": 83,
     "metadata": {},
     "output_type": "execute_result"
    }
   ],
   "source": [
    "\"\"\"\n",
    "     3 \n",
    "   0   4 \n",
    "     2   8\n",
    "    1\n",
    "\"\"\""
   ]
  },
  {
   "cell_type": "markdown",
   "metadata": {},
   "source": [
    "# Tree equality"
   ]
  },
  {
   "cell_type": "code",
   "execution_count": 70,
   "metadata": {
    "collapsed": false
   },
   "outputs": [
    {
     "name": "stdout",
     "output_type": "stream",
     "text": [
      "[[7], [4, 9], [2, 5, 8, 13]]\n",
      "[[7], [4, 9], [2, 5, 8, 13]]\n"
     ]
    },
    {
     "data": {
      "text/plain": [
       "[[7], [4, 9], [2, 5, 8, 13]]"
      ]
     },
     "execution_count": 70,
     "metadata": {},
     "output_type": "execute_result"
    }
   ],
   "source": [
    "initialize_list = [2,5,4,7,8,9,13]\n",
    "tree1 = Tree()\n",
    "tree1.call_initialize_sorted_BST(initialize_list)\n",
    "tree1.printLevelOrder()\n",
    "tree2 = tree1\n",
    "#tree2.add(78)\n",
    "tree2.printLevelOrder()"
   ]
  },
  {
   "cell_type": "code",
   "execution_count": 71,
   "metadata": {
    "collapsed": false
   },
   "outputs": [
    {
     "data": {
      "text/plain": [
       "'      \\n      7\\n    4   9\\n  2  5 8  13\\n             78'"
      ]
     },
     "execution_count": 71,
     "metadata": {},
     "output_type": "execute_result"
    }
   ],
   "source": [
    "\"\"\"      \n",
    "      7\n",
    "    4   9\n",
    "  2  5 8  13\n",
    "             78\"\"\""
   ]
  },
  {
   "cell_type": "code",
   "execution_count": 73,
   "metadata": {
    "collapsed": true
   },
   "outputs": [],
   "source": [
    "def isSameTree(p,q):\n",
    "    #print p.data, q.data\n",
    "    if not q and not p:\n",
    "        return True\n",
    "    elif not p or not q:\n",
    "        return False\n",
    "    elif p.data!=q.data:\n",
    "        return False\n",
    "    else:\n",
    "        return isSameTree(p.left,q.left) and isSameTree(p.right,q.right)"
   ]
  },
  {
   "cell_type": "code",
   "execution_count": 75,
   "metadata": {
    "collapsed": false
   },
   "outputs": [
    {
     "data": {
      "text/plain": [
       "True"
      ]
     },
     "execution_count": 75,
     "metadata": {},
     "output_type": "execute_result"
    }
   ],
   "source": [
    "isSameTree(tree1.root, tree2.root)"
   ]
  }
 ],
 "metadata": {
  "kernelspec": {
   "display_name": "Python 2",
   "language": "python",
   "name": "python2"
  },
  "language_info": {
   "codemirror_mode": {
    "name": "ipython",
    "version": 2
   },
   "file_extension": ".py",
   "mimetype": "text/x-python",
   "name": "python",
   "nbconvert_exporter": "python",
   "pygments_lexer": "ipython2",
   "version": "2.7.12"
  }
 },
 "nbformat": 4,
 "nbformat_minor": 0
}
