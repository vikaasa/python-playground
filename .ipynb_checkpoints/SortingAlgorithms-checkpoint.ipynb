{
 "cells": [
  {
   "cell_type": "markdown",
   "metadata": {},
   "source": [
    "## Insertion Sort"
   ]
  },
  {
   "cell_type": "code",
   "execution_count": 3,
   "metadata": {
    "collapsed": false
   },
   "outputs": [
    {
     "data": {
      "text/plain": [
       "[0, 2, 2, 4, 5, 8]"
      ]
     },
     "execution_count": 3,
     "metadata": {},
     "output_type": "execute_result"
    }
   ],
   "source": [
    "arr = [4,5,8,2,0,2]\n",
    "#          i j\n",
    "#      4,5,7,8,0,2\n",
    "#      4,5,7,0,8,2\n",
    "#          ...\n",
    "#      0,4,5,7,8,2   \n",
    "       \n",
    "def insertionSort(arr):\n",
    "    for i in range(len(arr)-1):\n",
    "        j=i+1\n",
    "        while (j>0):\n",
    "            if arr[j]<arr[j-1]:\n",
    "                arr[j],arr[j-1] = arr[j-1],arr[j]\n",
    "            j-=1\n",
    "            #print arr\n",
    "    return arr\n",
    "\n",
    "insertionSort(arr)"
   ]
  },
  {
   "cell_type": "markdown",
   "metadata": {
    "collapsed": true
   },
   "source": [
    "## Quicksort"
   ]
  },
  {
   "cell_type": "code",
   "execution_count": 4,
   "metadata": {
    "collapsed": false
   },
   "outputs": [
    {
     "data": {
      "text/plain": [
       "[0, 2, 3, 4, 5, 8]"
      ]
     },
     "execution_count": 4,
     "metadata": {},
     "output_type": "execute_result"
    }
   ],
   "source": [
    "arr = [4,5,8,2,0,3]\n",
    "import random\n",
    "def partition(nums, l, r):\n",
    "    #pivot = random.choice(arr)\n",
    "    low = l\n",
    "    while l < r:\n",
    "        if nums[l] < nums[r]:\n",
    "            nums[l], nums[low] = nums[low], nums[l]\n",
    "            low += 1\n",
    "        l += 1\n",
    "    nums[low], nums[r] = nums[r], nums[low]\n",
    "    return low\n",
    "            \n",
    "def quickSort(arr, start, end):\n",
    "    if start<=end:\n",
    "        pivot = random.randint(start,end)\n",
    "        arr[pivot], arr[end] = arr[end], arr[pivot]\n",
    "        index=partition(arr,start,end)\n",
    "        quickSort(arr, start, index-1)\n",
    "        quickSort(arr, index+1, end)\n",
    "    return arr\n",
    "\n",
    "quickSort(arr, 0, len(arr)-1)\n",
    "\n",
    "    "
   ]
  },
  {
   "cell_type": "code",
   "execution_count": 3,
   "metadata": {
    "collapsed": false
   },
   "outputs": [
    {
     "data": {
      "text/plain": [
       "1"
      ]
     },
     "execution_count": 3,
     "metadata": {},
     "output_type": "execute_result"
    }
   ],
   "source": [
    "3/2"
   ]
  },
  {
   "cell_type": "markdown",
   "metadata": {
    "collapsed": true
   },
   "source": [
    "## Mergesort"
   ]
  },
  {
   "cell_type": "code",
   "execution_count": 15,
   "metadata": {
    "collapsed": false
   },
   "outputs": [
    {
     "data": {
      "text/plain": [
       "[3, 4, 5, 5, 7, 9, 89]"
      ]
     },
     "execution_count": 15,
     "metadata": {},
     "output_type": "execute_result"
    }
   ],
   "source": [
    "arr = [4,5,3,9,7,5,89]\n",
    "#res = []    \n",
    "def mergeSort(arr):\n",
    "    if len(arr)==1:\n",
    "        return arr\n",
    "    else:\n",
    "        left = mergeSort(arr[0:(len(arr)/2)])\n",
    "        right = mergeSort(arr[(len(arr)/2):])\n",
    "        #print \"left, right: \" + str(left) + str(right)\n",
    "        #print \"merge: \" + str(merge(left, right))\n",
    "        return merge(left, right)\n",
    "        \n",
    "def merge(left, right):\n",
    "    #i, j = len(left)-1, len(right)-1\n",
    "    i,j=0,0\n",
    "    #print res\n",
    "    res=[]\n",
    "    while i <= len(left)-1 and j <= len(right)-1:\n",
    "        #print \"hi\"\n",
    "        if left[i] > right[j]:\n",
    "            res.append(right[j])\n",
    "            j+=1\n",
    "        elif right[j] >= left[i]:\n",
    "            res.append(left[i])\n",
    "            i+=1\n",
    "    while i <= len(left)-1:\n",
    "        res.append(left[i])\n",
    "        i+=1\n",
    "    while j <= len(right)-1:\n",
    "        res.append(right[j])\n",
    "        j+=1\n",
    "    #print \"res: \" + str(res)\n",
    "    return res\n",
    "\n",
    "mergeSort(arr)\n",
    "\n",
    "        "
   ]
  },
  {
   "cell_type": "code",
   "execution_count": 18,
   "metadata": {
    "collapsed": false
   },
   "outputs": [
    {
     "name": "stdout",
     "output_type": "stream",
     "text": [
      "9 4\n",
      "largest:  [4, 5, 3, 9, 7, 5, 89, 2, 8] 4 4 7\n",
      "9 3\n",
      "largest:  [4, 5, 3, 9, 7, 5, 89, 2, 8] 3 3 9\n",
      "9 2\n",
      "largest:  [4, 5, 3, 9, 7, 5, 89, 2, 8] 6 2 89\n",
      "largest!=i 2 6 3 89\n",
      "6\n",
      "9 6\n",
      "largest:  [4, 5, 89, 9, 7, 5, 3, 2, 8] 6 6 3\n",
      "9 1\n",
      "largest:  [4, 5, 89, 9, 7, 5, 3, 2, 8] 3 1 9\n",
      "largest!=i 1 3 5 9\n",
      "3\n",
      "9 3\n",
      "largest:  [4, 9, 89, 5, 7, 5, 3, 2, 8] 8 3 8\n",
      "largest!=i 3 8 5 8\n",
      "8\n",
      "9 8\n",
      "largest:  [4, 9, 89, 8, 7, 5, 3, 2, 5] 8 8 5\n",
      "9 0\n",
      "largest:  [4, 9, 89, 8, 7, 5, 3, 2, 5] 2 0 89\n",
      "largest!=i 0 2 4 89\n",
      "2\n",
      "9 2\n",
      "largest:  [89, 9, 4, 8, 7, 5, 3, 2, 5] 5 2 5\n",
      "largest!=i 2 5 4 5\n",
      "5\n",
      "9 5\n",
      "largest:  [89, 9, 5, 8, 7, 4, 3, 2, 5] 5 5 4\n",
      "inverting\n",
      "[89, 9, 5, 8, 7, 4, 3, 2, 5]\n",
      "8 0\n",
      "largest:  [5, 9, 5, 8, 7, 4, 3, 2, 89] 1 0 9\n",
      "largest!=i 0 1 5 9\n",
      "1\n",
      "8 1\n",
      "largest:  [9, 5, 5, 8, 7, 4, 3, 2, 89] 3 1 8\n",
      "largest!=i 1 3 5 8\n",
      "3\n",
      "8 3\n",
      "largest:  [9, 8, 5, 5, 7, 4, 3, 2, 89] 3 3 5\n",
      "7 0\n",
      "largest:  [2, 8, 5, 5, 7, 4, 3, 9, 89] 1 0 8\n",
      "largest!=i 0 1 2 8\n",
      "1\n",
      "7 1\n",
      "largest:  [8, 2, 5, 5, 7, 4, 3, 9, 89] 4 1 7\n",
      "largest!=i 1 4 2 7\n",
      "4\n",
      "7 4\n",
      "largest:  [8, 7, 5, 5, 2, 4, 3, 9, 89] 4 4 2\n",
      "6 0\n",
      "largest:  [3, 7, 5, 5, 2, 4, 8, 9, 89] 1 0 7\n",
      "largest!=i 0 1 3 7\n",
      "1\n",
      "6 1\n",
      "largest:  [7, 3, 5, 5, 2, 4, 8, 9, 89] 3 1 5\n",
      "largest!=i 1 3 3 5\n",
      "3\n",
      "6 3\n",
      "largest:  [7, 5, 5, 3, 2, 4, 8, 9, 89] 3 3 3\n",
      "5 0\n",
      "largest:  [4, 5, 5, 3, 2, 7, 8, 9, 89] 2 0 5\n",
      "largest!=i 0 2 4 5\n",
      "2\n",
      "5 2\n",
      "largest:  [5, 5, 4, 3, 2, 7, 8, 9, 89] 2 2 4\n",
      "4 0\n",
      "largest:  [2, 5, 4, 3, 5, 7, 8, 9, 89] 1 0 5\n",
      "largest!=i 0 1 2 5\n",
      "1\n",
      "4 1\n",
      "largest:  [5, 2, 4, 3, 5, 7, 8, 9, 89] 3 1 3\n",
      "largest!=i 1 3 2 3\n",
      "3\n",
      "4 3\n",
      "largest:  [5, 3, 4, 2, 5, 7, 8, 9, 89] 3 3 2\n",
      "3 0\n",
      "largest:  [2, 3, 4, 5, 5, 7, 8, 9, 89] 2 0 4\n",
      "largest!=i 0 2 2 4\n",
      "2\n",
      "3 2\n",
      "largest:  [4, 3, 2, 5, 5, 7, 8, 9, 89] 2 2 2\n",
      "2 0\n",
      "largest:  [2, 3, 4, 5, 5, 7, 8, 9, 89] 1 0 3\n",
      "largest!=i 0 1 2 3\n",
      "1\n",
      "2 1\n",
      "largest:  [3, 2, 4, 5, 5, 7, 8, 9, 89] 1 1 2\n",
      "1 0\n",
      "largest:  [2, 3, 4, 5, 5, 7, 8, 9, 89] 0 0 2\n"
     ]
    },
    {
     "data": {
      "text/plain": [
       "[2, 3, 4, 5, 5, 7, 8, 9, 89]"
      ]
     },
     "execution_count": 18,
     "metadata": {},
     "output_type": "execute_result"
    }
   ],
   "source": [
    "arr = [4,5,3,9,7,5,89,2,8]\n",
    "\n",
    "def heapSort(arr):\n",
    "    n = len(arr)\n",
    "    for i in range((n-1)//2,-1,-1):\n",
    "        heapify(arr, n, i)\n",
    "    print \"inverting\"\n",
    "    print arr\n",
    "    for i in range(n-1, 0, -1):\n",
    "        arr[i], arr[0] = arr[0], arr[i]   # swap\n",
    "        heapify(arr, i, 0)\n",
    "        #print arr\n",
    "    return arr\n",
    "        \n",
    "def heapify(arr, n, i):\n",
    "    largest = i\n",
    "    print n,i\n",
    "    l = 2*i+1\n",
    "    r = 2*i+2\n",
    "    if l<n and arr[l] >= arr[i]:\n",
    "        largest = l\n",
    "    if r<n and arr[r] >= arr[largest]:\n",
    "        largest = r\n",
    "    print \"largest: \", str(arr), str(largest), str(i), str(arr[largest])\n",
    "    if largest!=i:\n",
    "        print \"largest!=i\", str(i), str(largest), str(arr[i]), str(arr[largest])\n",
    "        arr[i], arr[largest] = arr[largest], arr[i]\n",
    "        print largest\n",
    "        heapify(arr, n, largest)\n",
    "\n",
    "heapSort(arr)"
   ]
  },
  {
   "cell_type": "code",
   "execution_count": 2,
   "metadata": {
    "collapsed": false
   },
   "outputs": [
    {
     "data": {
      "text/plain": [
       "1"
      ]
     },
     "execution_count": 2,
     "metadata": {},
     "output_type": "execute_result"
    }
   ],
   "source": [
    "n = [1,2,3][False]\n",
    "n"
   ]
  },
  {
   "cell_type": "code",
   "execution_count": null,
   "metadata": {
    "collapsed": true
   },
   "outputs": [],
   "source": []
  }
 ],
 "metadata": {
  "kernelspec": {
   "display_name": "Python 2",
   "language": "python",
   "name": "python2"
  },
  "language_info": {
   "codemirror_mode": {
    "name": "ipython",
    "version": 2
   },
   "file_extension": ".py",
   "mimetype": "text/x-python",
   "name": "python",
   "nbconvert_exporter": "python",
   "pygments_lexer": "ipython2",
   "version": "2.7.12"
  }
 },
 "nbformat": 4,
 "nbformat_minor": 0
}
