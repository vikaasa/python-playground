{
 "cells": [
  {
   "cell_type": "markdown",
   "metadata": {},
   "source": [
    "## Testing out Heap operations"
   ]
  },
  {
   "cell_type": "code",
   "execution_count": 10,
   "metadata": {
    "collapsed": false
   },
   "outputs": [
    {
     "data": {
      "text/plain": [
       "[(2, 8), (11, 1), (3, 5), (16, 4), (26, 13), (6, 3)]"
      ]
     },
     "execution_count": 10,
     "metadata": {},
     "output_type": "execute_result"
    }
   ],
   "source": [
    "import heapq\n",
    "a = []\n",
    "heapq.heappush(a,(11,1))\n",
    "heapq.heappush(a,(2,8))\n",
    "heapq.heappush(a,(6,3))\n",
    "heapq.heappush(a,(16,4))\n",
    "heapq.heappush(a,(26,13))\n",
    "heapq.heappush(a,(3,5))\n",
    "a"
   ]
  },
  {
   "cell_type": "markdown",
   "metadata": {},
   "source": [
    "## PriorityQ/Heap push, find median"
   ]
  },
  {
   "cell_type": "code",
   "execution_count": 1,
   "metadata": {
    "collapsed": true
   },
   "outputs": [],
   "source": [
    "from heapq import *\n",
    "def addNum(num, small, large):\n",
    "    heappush(small, -heappushpop(large, num))\n",
    "    if len(large) < len(small):\n",
    "        heappush(large, -heappop(small))\n",
    "\n",
    "def findMedian(small, large):\n",
    "    if len(large) > len(small):\n",
    "        return float(large[0])\n",
    "    return (large[0] - small[0]) / 2.0"
   ]
  },
  {
   "cell_type": "code",
   "execution_count": 17,
   "metadata": {
    "collapsed": false
   },
   "outputs": [
    {
     "name": "stdout",
     "output_type": "stream",
     "text": [
      "large is empty\n"
     ]
    },
    {
     "data": {
      "text/plain": [
       "7"
      ]
     },
     "execution_count": 17,
     "metadata": {},
     "output_type": "execute_result"
    }
   ],
   "source": [
    "num = 7\n",
    "large = []\n",
    "\n",
    "heappushpop(large, num)"
   ]
  },
  {
   "cell_type": "code",
   "execution_count": 36,
   "metadata": {
    "collapsed": false
   },
   "outputs": [
    {
     "name": "stdout",
     "output_type": "stream",
     "text": [
      "[-7, -5, -4, -2, 5, 5, 8, 9]\n",
      "[2, 5, 4, 7] [5, 5, 8, 9]\n"
     ]
    },
    {
     "data": {
      "text/plain": [
       "1.5"
      ]
     },
     "execution_count": 36,
     "metadata": {},
     "output_type": "execute_result"
    }
   ],
   "source": [
    "small, large = [],[]\n",
    "nums = [-7,9,-2,-4,5,5,8,-5]\n",
    "print sorted(nums)\n",
    "for i in nums:\n",
    "    addNum(i, small, large)\n",
    "print small, large\n",
    "findMedian(small, large)"
   ]
  },
  {
   "cell_type": "code",
   "execution_count": 2,
   "metadata": {
    "collapsed": false
   },
   "outputs": [
    {
     "data": {
      "text/plain": [
       "[11, 8, 7, 5]"
      ]
     },
     "execution_count": 2,
     "metadata": {},
     "output_type": "execute_result"
    }
   ],
   "source": [
    "nums = [5,11,2,7,8,4,1]\n",
    "import heapq\n",
    "heapq.nlargest(4, nums)"
   ]
  },
  {
   "cell_type": "code",
   "execution_count": 27,
   "metadata": {
    "collapsed": false
   },
   "outputs": [
    {
     "name": "stdout",
     "output_type": "stream",
     "text": [
      "[11, 8, 5, 7, 1, 2, 4]\n",
      "-7\n"
     ]
    }
   ],
   "source": [
    "heap=[]\n",
    "for i in nums:\n",
    "    heappush(heap, i)\n",
    "heap\n",
    "heapq._heapify_max(heap)\n",
    "print heap\n",
    "for i in range(4):\n",
    "    a = heap.pop()\n",
    "print -a"
   ]
  },
  {
   "cell_type": "code",
   "execution_count": 32,
   "metadata": {
    "collapsed": false
   },
   "outputs": [
    {
     "name": "stdout",
     "output_type": "stream",
     "text": [
      "[9, 7, 4, 3]\n",
      "9\n",
      "2\n",
      "[3, 7, 4, 9]\n"
     ]
    }
   ],
   "source": [
    "nums = [4,7,1,3,9,2]\n",
    "print heapq.nlargest(4, nums)\n",
    "heap = nums[:4]\n",
    "heapq.heapify(heap)  # create a min-heap whose size is k \n",
    "#print heap\n",
    "for num in nums[4:]:\n",
    "    print num\n",
    "    if num > heap[0]:\n",
    "        heapq.heapreplace(heap, num)\n",
    "    # or use:\n",
    "    # heapq.heappushpop(heap, num)\n",
    "print heap\n",
    "  "
   ]
  },
  {
   "cell_type": "code",
   "execution_count": 31,
   "metadata": {
    "collapsed": false
   },
   "outputs": [
    {
     "name": "stdout",
     "output_type": "stream",
     "text": [
      "[9, 7, 4, 3]\n"
     ]
    }
   ],
   "source": [
    "nums = [4,7,1,3,9,2]\n",
    "print heapq.nlargest(4, nums)"
   ]
  }
 ],
 "metadata": {
  "kernelspec": {
   "display_name": "Python 2",
   "language": "python",
   "name": "python2"
  },
  "language_info": {
   "codemirror_mode": {
    "name": "ipython",
    "version": 2
   },
   "file_extension": ".py",
   "mimetype": "text/x-python",
   "name": "python",
   "nbconvert_exporter": "python",
   "pygments_lexer": "ipython2",
   "version": "2.7.12"
  }
 },
 "nbformat": 4,
 "nbformat_minor": 0
}
