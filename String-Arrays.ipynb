{
 "cells": [
  {
   "cell_type": "markdown",
   "metadata": {},
   "source": [
    "# String/Arrays"
   ]
  },
  {
   "cell_type": "markdown",
   "metadata": {},
   "source": [
    "## 7. Merge Interval"
   ]
  },
  {
   "cell_type": "code",
   "execution_count": null,
   "metadata": {
    "collapsed": false
   },
   "outputs": [],
   "source": [
    "a = [[1,3],[2,6],[8,10],[15,18]]\n",
    "out = []\n",
    "count = 1\n",
    "for i in sorted(a, key = lambda x: x[0]):\n",
    "    if out and i[0]<= out[-1][1]:\n",
    "        out[-1][1]=max(out[-1][1],i[1])\n",
    "        count +=1\n",
    "        print out, count\n",
    "    else:\n",
    "        out += i,\n",
    "        print out, count\n",
    "sorted(a)"
   ]
  },
  {
   "cell_type": "code",
   "execution_count": null,
   "metadata": {
    "collapsed": false
   },
   "outputs": [],
   "source": [
    "out"
   ]
  },
  {
   "cell_type": "markdown",
   "metadata": {},
   "source": [
    "## 7.b Interval Intersection\n",
    "Find Maximum no and time of Parallel Threads"
   ]
  },
  {
   "cell_type": "code",
   "execution_count": null,
   "metadata": {
    "collapsed": false
   },
   "outputs": [],
   "source": [
    "a = [[1,5],[1,4],[8,10],[15,18]]\n",
    "\n",
    "out = {}\n",
    "count = 1\n",
    "def find_max_intersecting_intervals(intervals):\n",
    "    sorted_startTimes = sorted(intervals, key = lambda x: (x[0],x[1]))\n",
    "    for i in sorted_startTimes:\n",
    "        if out and i[0]<=out[-1][1]:\n",
    "            print \"blah\"\n",
    "        else:\n",
    "            out += i\n",
    "            "
   ]
  },
  {
   "cell_type": "markdown",
   "metadata": {},
   "source": [
    "## 6. Wildcard Matching"
   ]
  },
  {
   "cell_type": "code",
   "execution_count": null,
   "metadata": {
    "collapsed": true
   },
   "outputs": [],
   "source": [
    "s = \"aa\"\n",
    "p = \"*b\""
   ]
  },
  {
   "cell_type": "code",
   "execution_count": null,
   "metadata": {
    "collapsed": false
   },
   "outputs": [],
   "source": [
    "def blah():\n",
    "    if len(p) - p.count('*') > len(s):\n",
    "        return False\n",
    "        m, n = len(s), len(p)\n",
    "        i = j = 0\n",
    "        star = match = None\n",
    "        while i < m:\n",
    "            if j < n and (p[j] == '?' or s[i] == p[j]):\n",
    "                i += 1\n",
    "                j += 1\n",
    "\n",
    "            elif j < n and p[j] == '*':\n",
    "                star = j\n",
    "                j += 1\n",
    "                match = i\n",
    "\n",
    "            elif star is not None:\n",
    "                j = star + 1\n",
    "                match += 1\n",
    "                i = match\n",
    "\n",
    "            else:\n",
    "                return False\n",
    "\n",
    "        return all(p[k] == '*' for k in range(j, n))"
   ]
  },
  {
   "cell_type": "code",
   "execution_count": null,
   "metadata": {
    "collapsed": false
   },
   "outputs": [],
   "source": [
    "a = blah()\n",
    "a"
   ]
  },
  {
   "cell_type": "markdown",
   "metadata": {
    "collapsed": true
   },
   "source": [
    "## 9. a) TwoSum"
   ]
  },
  {
   "cell_type": "code",
   "execution_count": null,
   "metadata": {
    "collapsed": true
   },
   "outputs": [],
   "source": [
    "a = [1,5,3,4,2]\n",
    "k = 7"
   ]
  },
  {
   "cell_type": "code",
   "execution_count": null,
   "metadata": {
    "collapsed": false
   },
   "outputs": [],
   "source": [
    "def twosum(a,k):\n",
    "    hash_map = {}\n",
    "    count = 0\n",
    "    for i in range(len(a)):\n",
    "        if a[i] in hash_map:\n",
    "            print hash_map[a[i]], i\n",
    "            count+=1\n",
    "        else:\n",
    "            hash_map[k - a[i]]=i\n",
    "    print hash_map    \n",
    "    return count\n",
    "\n",
    "twosum(a,k)  "
   ]
  },
  {
   "cell_type": "markdown",
   "metadata": {},
   "source": [
    "## 9. b) Three sum"
   ]
  },
  {
   "cell_type": "code",
   "execution_count": null,
   "metadata": {
    "collapsed": true
   },
   "outputs": [],
   "source": [
    "a = [-1,-2,3,4,5]\n",
    "target = 0"
   ]
  },
  {
   "cell_type": "code",
   "execution_count": null,
   "metadata": {
    "collapsed": false
   },
   "outputs": [],
   "source": [
    "def threeSum(nums):\n",
    "    if len(nums) <3: \n",
    "        return []\n",
    "    elif len(nums) == 3:\n",
    "        if sum(nums) == 0:\n",
    "            return [sorted(nums)]\n",
    "    nums.sort()\n",
    "    res = []\n",
    "    for i in list(range(len(nums)-2)):\n",
    "        if i > 0 and nums[i] == nums[i-1]: # avoid duplication\n",
    "            continue\n",
    "        j = i + 1\n",
    "        k = len(nums) - 1\n",
    "        while j < k:\n",
    "            if j > i + 1 and nums[j] == nums[j-1]: # avoid duplication\n",
    "                j += 1\n",
    "                continue\n",
    "            if k < len(nums) - 1 and nums[k] == nums[k+1]: # avoid duplication\n",
    "                k -= 1\n",
    "                continue\n",
    "            if nums[i] + nums[j] + nums[k] == 0:\n",
    "                res.append([nums[i],nums[j],nums[k]])\n",
    "            if nums[i] + nums[j] + nums[k] < 0:\n",
    "                j += 1\n",
    "            else:\n",
    "                k -= 1\n",
    "    return res"
   ]
  },
  {
   "cell_type": "code",
   "execution_count": null,
   "metadata": {
    "collapsed": false
   },
   "outputs": [],
   "source": [
    "threeSum(a)"
   ]
  },
  {
   "cell_type": "markdown",
   "metadata": {},
   "source": [
    "## 9. c) Foursum"
   ]
  },
  {
   "cell_type": "code",
   "execution_count": null,
   "metadata": {
    "collapsed": true
   },
   "outputs": [],
   "source": [
    "def twoSum(a):\n",
    "    hash_map = {}\n",
    "    total = sum(a)\n",
    "    for i in range(len(a)):\n",
    "        if a[i] in hash_map:\n",
    "            return (hash_map[a[i]], i)\n",
    "        else:\n",
    "            hash_map[target - a[i]]=i\n"
   ]
  },
  {
   "cell_type": "code",
   "execution_count": null,
   "metadata": {
    "collapsed": false
   },
   "outputs": [],
   "source": [
    "def fourSum(nums, target):\n",
    "    def findNsum(nums, target, N, result, results):\n",
    "        if len(nums) < N or N < 2 or target < nums[0]*N or target > nums[-1]*N:  # early termination\n",
    "            return\n",
    "        if N == 2: # two pointers solve sorted 2-sum problem\n",
    "            l,r = 0,len(nums)-1\n",
    "            while l < r:\n",
    "                s = nums[l] + nums[r]\n",
    "                if s == target:\n",
    "                    results.append(result + [nums[l], nums[r]])\n",
    "                    l += 1\n",
    "                    while l < r and nums[l] == nums[l-1]:\n",
    "                        l += 1\n",
    "                elif s < target:\n",
    "                    l += 1\n",
    "                else:\n",
    "                    r -= 1\n",
    "        else: # recursively reduce N\n",
    "            for i in range(len(nums)-N+1):\n",
    "                if i == 0 or (i > 0 and nums[i-1] != nums[i]):\n",
    "                    findNsum(nums[i+1:], target-nums[i], N-1, result+[nums[i]], results)\n",
    "\n",
    "    results = []\n",
    "    findNsum(sorted(nums), target, 4, [], results)\n",
    "    return results\n",
    "\n",
    "nums = [-4,-3,3,4,0,1,2]\n",
    "target = 0\n",
    "fourSum(nums, target)"
   ]
  },
  {
   "cell_type": "code",
   "execution_count": null,
   "metadata": {
    "collapsed": true
   },
   "outputs": [],
   "source": []
  },
  {
   "cell_type": "code",
   "execution_count": null,
   "metadata": {
    "collapsed": false
   },
   "outputs": [],
   "source": [
    "a = [6,7,8,9,10]\n",
    "import itertools\n",
    "import collections\n",
    "two_sum = collections.defaultdict(list)\n",
    "for (n1, i1), (n2, i2) in itertools.combinations(enumerate(a), 2):\n",
    "    two_sum[i1+i2].append({n1, n2})\n",
    "two_sum"
   ]
  },
  {
   "cell_type": "code",
   "execution_count": null,
   "metadata": {
    "collapsed": true
   },
   "outputs": [],
   "source": [
    "def twoSumSorted(nums, target):\n",
    "    l,r = 0,len(nums)-1\n",
    "    while l < r:\n",
    "        s = nums[l] + nums[r]\n",
    "        if s == target:\n",
    "            return [l,r]\n",
    "        elif s < target:\n",
    "            l += 1\n",
    "        else:\n",
    "            r -= 1"
   ]
  },
  {
   "cell_type": "code",
   "execution_count": null,
   "metadata": {
    "collapsed": false
   },
   "outputs": [],
   "source": [
    "twoSumSorted([0,0,3,2],0)"
   ]
  },
  {
   "cell_type": "code",
   "execution_count": null,
   "metadata": {
    "collapsed": false
   },
   "outputs": [],
   "source": [
    "a = \"hackerrank\"\n",
    "b = \"r\"\n",
    "\n",
    "set(a[:6])-set(a[6])"
   ]
  },
  {
   "cell_type": "markdown",
   "metadata": {},
   "source": [
    "## 9d) Foursum in lists"
   ]
  },
  {
   "cell_type": "code",
   "execution_count": null,
   "metadata": {
    "collapsed": false
   },
   "outputs": [],
   "source": [
    "import collections\n",
    "def fourSumCount(A, B, C, D):\n",
    "    AB = collections.Counter(a+b for a in A for b in B)\n",
    "    print AB\n",
    "    return sum(AB[-c-d] for c in C for d in D)\n",
    "\n",
    "A = [ 1, 2]\n",
    "B = [-2,-1]\n",
    "C = [-1, 2]\n",
    "D = [ 0, 2]\n",
    "\n",
    "fourSumCount(A, B, C, D)"
   ]
  },
  {
   "cell_type": "markdown",
   "metadata": {},
   "source": [
    "## 10) Threesum Closest"
   ]
  },
  {
   "cell_type": "code",
   "execution_count": null,
   "metadata": {
    "collapsed": false
   },
   "outputs": [],
   "source": [
    "a = [2,2,5,3]\n",
    "target = 8\n",
    "\n",
    "def threeSum(nums, target):\n",
    "    if len(nums) <3: \n",
    "        return None\n",
    "    elif len(nums) == 3:\n",
    "        return sum(nums)\n",
    "    nums.sort()\n",
    "    result = nums[0] + nums[1] + nums[2]\n",
    "    print \"result: \"+str(result)\n",
    "    for i in list(range(len(nums)-2)):\n",
    "        if i > 0 and nums[i] == nums[i-1]: # avoid duplication\n",
    "            continue\n",
    "        j = i + 1\n",
    "        k = len(nums) - 1\n",
    "        while j < k:\n",
    "            current_sum = nums[i] + nums[j] + nums[k]\n",
    "            print \"current_sum: \" + str(current_sum) + \" target: \" + str(target) + \" result: \" + str(result)\n",
    "            print \"current_sum - target: \"+str(current_sum - target)\n",
    "            print \"result - target: \"+str(result - target)\n",
    "            if j > i + 1 and nums[j] == nums[j-1]: # avoid duplication\n",
    "                j += 1\n",
    "                continue\n",
    "            if k < len(nums) - 1 and nums[k] == nums[k+1]: # avoid duplication\n",
    "                k -= 1\n",
    "                continue\n",
    "            if abs(current_sum - target) < abs(result - target):\n",
    "                result = current_sum\n",
    "                print \"modifying\"\n",
    "            if current_sum < target:\n",
    "                j += 1\n",
    "            else:\n",
    "                k -= 1\n",
    "    return result\n",
    "\n",
    "threeSum(a, 8)"
   ]
  },
  {
   "cell_type": "markdown",
   "metadata": {},
   "source": [
    "## Combinations"
   ]
  },
  {
   "cell_type": "code",
   "execution_count": null,
   "metadata": {
    "collapsed": true
   },
   "outputs": [],
   "source": [
    "def combinations(n, k):\n",
    "    combs = []\n",
    "    print \"before append: n, k, start, i, comb, combs\"\n",
    "    combine(1, n, k,[],combs)\n",
    "    return combs\n",
    "\n",
    "def combine(start, n, k, comb, combs):\n",
    "    if k==0:\n",
    "        newComb = []+comb\n",
    "        combs.append(newComb)\n",
    "        return\n",
    "    for i in range(start,n-k+2):\n",
    "        print \"before append: \"+str((n,k,start,i,comb,combs))\n",
    "        comb.append(i)\n",
    "        print \"after append: \"+str((n,k,start,i,comb,combs))\n",
    "        combine(i+1, n, k-1, comb, combs)\n",
    "        print \"after recursion: \"+str((n,k,start,i,comb,combs))\n",
    "        comb.pop(len(comb)-1)\n",
    "        print \"after pop: \"+str((n,k,start,i,comb,combs))"
   ]
  },
  {
   "cell_type": "code",
   "execution_count": null,
   "metadata": {
    "collapsed": false
   },
   "outputs": [],
   "source": [
    "combinations(4,2)"
   ]
  },
  {
   "cell_type": "markdown",
   "metadata": {},
   "source": [
    "## Combination Sum"
   ]
  },
  {
   "cell_type": "code",
   "execution_count": null,
   "metadata": {
    "collapsed": true
   },
   "outputs": [],
   "source": [
    "## [10, 1, 2, 7, 6, 1, 5] and target 8\n",
    "nums = [10, 1, 2, 7, 6, 1, 5]\n",
    "target = 8\n",
    "\n",
    "sol = [\n",
    "  [1, 7],\n",
    "  [1, 2, 5],\n",
    "  [2, 6],\n",
    "  [1, 1, 6]\n",
    "]\n"
   ]
  },
  {
   "cell_type": "code",
   "execution_count": null,
   "metadata": {
    "collapsed": false
   },
   "outputs": [],
   "source": [
    "def dfs(nums, start, target, curr, results):\n",
    "    if target<0:\n",
    "        return\n",
    "    if target == 0:\n",
    "        results.append([]+curr)\n",
    "        return\n",
    "    for i in range(start, len(nums)):\n",
    "        if i>start and nums[i] == nums[i-1]:\n",
    "            continue\n",
    "        curr.append(nums[i])\n",
    "        dfs(nums,i+1,target-nums[i],curr,results)\n",
    "        curr.pop(len(curr)-1)\n",
    "            \n",
    "def combination_sum(nums,target):\n",
    "    results = []\n",
    "    dfs(sorted(nums), 0, target, [], results)\n",
    "    return results\n",
    "\n",
    "combination_sum(nums, target)"
   ]
  },
  {
   "cell_type": "code",
   "execution_count": 8,
   "metadata": {
    "collapsed": false
   },
   "outputs": [
    {
     "name": "stdout",
     "output_type": "stream",
     "text": [
      "[[1, 3]]\n",
      "[[1, 3], [2, 2], [3, 1]]\n"
     ]
    }
   ],
   "source": [
    "def combinationSum3(k, n):\n",
    "    def combine(k, start, target, curr, res):\n",
    "        if target <0:\n",
    "            return\n",
    "        if target == 0 and len(curr) == k:\n",
    "            res.append([]+curr)\n",
    "            return\n",
    "        for i in range(start,10):\n",
    "            curr.append(i)\n",
    "            combine(k, i+1, target-i, curr, res)\n",
    "            curr.pop(len(curr)-1)\n",
    "    res = []\n",
    "    combine(k, 1, n, [], res)\n",
    "    return res\n",
    "\n",
    "print combinationSum3(2,4)\n",
    "\n",
    "def permutationSum3(k, n):\n",
    "    def permute(k, start, target, curr, res):\n",
    "        if target <0:\n",
    "            return\n",
    "        if target == 0 and len(curr) == k:\n",
    "            res.append([]+curr)\n",
    "            return\n",
    "        for i in range(1,10):\n",
    "            curr.append(i)\n",
    "            permute(k, i+1, target-i, curr, res)\n",
    "            curr.pop(len(curr)-1)\n",
    "    res = []\n",
    "    permute(k, 1, n, [], res)\n",
    "    return res\n",
    "\n",
    "print permutationSum3(2,4)"
   ]
  },
  {
   "cell_type": "code",
   "execution_count": 17,
   "metadata": {
    "collapsed": false
   },
   "outputs": [
    {
     "data": {
      "text/plain": [
       "[[4, 2],\n",
       " [4, 1, 1],\n",
       " [2, 4],\n",
       " [2, 2, 2],\n",
       " [2, 2, 1, 1],\n",
       " [2, 1, 2, 1],\n",
       " [2, 1, 1, 2],\n",
       " [2, 1, 1, 1, 1],\n",
       " [1, 4, 1],\n",
       " [1, 2, 2, 1],\n",
       " [1, 2, 1, 2],\n",
       " [1, 2, 1, 1, 1],\n",
       " [1, 1, 4],\n",
       " [1, 1, 2, 2],\n",
       " [1, 1, 2, 1, 1],\n",
       " [1, 1, 1, 2, 1],\n",
       " [1, 1, 1, 1, 2],\n",
       " [1, 1, 1, 1, 1, 1]]"
      ]
     },
     "execution_count": 17,
     "metadata": {},
     "output_type": "execute_result"
    }
   ],
   "source": [
    "nums = [4,2,1]\n",
    "target = 6\n",
    "def combinationSum4(nums, target):\n",
    "    def combine(nums,target,curr,res):\n",
    "        if target<0:\n",
    "            return\n",
    "        if target == 0:\n",
    "            res.append([]+curr)\n",
    "            return\n",
    "        for i in range(0,len(nums)):\n",
    "            curr.append(nums[i])\n",
    "            combine(nums, target-nums[i], curr, res)\n",
    "            curr.pop(len(curr)-1)\n",
    "    res = []\n",
    "    combine(nums, target, [], res)\n",
    "    return res\n",
    "combinationSum4(nums, target)"
   ]
  },
  {
   "cell_type": "markdown",
   "metadata": {},
   "source": [
    "## K-diff pairs in Array"
   ]
  },
  {
   "cell_type": "markdown",
   "metadata": {},
   "source": [
    "Input: [3, 1, 4, 1, 5], k = 2\n",
    "Output: 2\n",
    "Explanation: There are two 2-diff pairs in the array, (1, 3) and (3, 5).\n",
    "Although we have two 1s in the input, we should only return the number of unique pairs."
   ]
  },
  {
   "cell_type": "code",
   "execution_count": 131,
   "metadata": {
    "collapsed": false
   },
   "outputs": [
    {
     "name": "stdout",
     "output_type": "stream",
     "text": [
      "set([2, 3, 4, 5, 6, 7, 8])\n",
      "{2: 2, 3: 3, 4: 1, 5: 1, 6: 1, 7: 1, 8: 1}\n"
     ]
    },
    {
     "data": {
      "text/plain": [
       "5"
      ]
     },
     "execution_count": 131,
     "metadata": {},
     "output_type": "execute_result"
    }
   ],
   "source": [
    "nums = [3,1,4,1,5]\n",
    "k=2\n",
    "#nums = [1,3,1,5,4]\n",
    "#k=0\n",
    "nums = [6,3,5,7,2,3,3,8,2,4]\n",
    "print set(nums)\n",
    "#nums = [5,4,4,3,3,2,1]\n",
    "k=2\n",
    "def findPairs(nums, k):\n",
    "    \"\"\"\n",
    "    :type nums: List[int]\n",
    "    :type k: int\n",
    "    :rtype: int\n",
    "    \"\"\"\n",
    "    #return len(set(nums)&{n+k for n in nums}) if k>0 else sum(v>1 for v in collections.Counter(nums).values()) if k==0 else 0\n",
    "    hash_map = {i:0 for i in nums}\n",
    "    count = 0\n",
    "    for i in range(len(nums)):\n",
    "        hash_map[nums[i]] += 1\n",
    "    print hash_map\n",
    "    if k == 0:\n",
    "        count = len([k for k,v in hash_map if hashmap[k] > 1])\n",
    "        return count\n",
    "    else:\n",
    "        for i in hash_map:\n",
    "            if i+k in hash_map:\n",
    "                count+=1\n",
    "    return count\n",
    "findPairs(nums,k)"
   ]
  },
  {
   "cell_type": "markdown",
   "metadata": {},
   "source": [
    "## Fibonacci Iterative"
   ]
  },
  {
   "cell_type": "code",
   "execution_count": null,
   "metadata": {
    "collapsed": true
   },
   "outputs": [],
   "source": [
    "n = 8\n",
    "def fibonacci(n):\n",
    "    a = 0\n",
    "    b = 1\n",
    "    fsum = 0\n",
    "    for i in range(2,n):\n",
    "        fsum=a+b\n",
    "        a = b\n",
    "        b = fsum\n",
    "    return fsum\n",
    "fibonacci(n)"
   ]
  },
  {
   "cell_type": "markdown",
   "metadata": {},
   "source": [
    "## Climbing Stairs, 1 and 2 at a time"
   ]
  },
  {
   "cell_type": "code",
   "execution_count": 132,
   "metadata": {
    "collapsed": false
   },
   "outputs": [
    {
     "data": {
      "text/plain": [
       "8"
      ]
     },
     "execution_count": 132,
     "metadata": {},
     "output_type": "execute_result"
    }
   ],
   "source": [
    "def climbStairs(n):\n",
    "\n",
    "    if n<=0:\n",
    "        return 0\n",
    "    if n==1:\n",
    "        return 1\n",
    "    if n == 2:\n",
    "        return 2\n",
    "    a = 1\n",
    "    b = 2\n",
    "    c = 0\n",
    "    for i in range(2,n):\n",
    "        c = a+b\n",
    "        a = b\n",
    "        b = c\n",
    "    return c\n",
    "climbStairs(5)"
   ]
  },
  {
   "cell_type": "markdown",
   "metadata": {},
   "source": [
    "## Climbing Stairs: 1, 2, 3 at a time"
   ]
  },
  {
   "cell_type": "markdown",
   "metadata": {},
   "source": [
    "K(1) = 1\n",
    "K(2) = 2\n",
    "k(3) = 4\n",
    "K(n) = K(n-3) + K(n-2) + K(n - 1)"
   ]
  },
  {
   "cell_type": "code",
   "execution_count": 134,
   "metadata": {
    "collapsed": false
   },
   "outputs": [
    {
     "data": {
      "text/plain": [
       "13"
      ]
     },
     "execution_count": 134,
     "metadata": {},
     "output_type": "execute_result"
    }
   ],
   "source": [
    "def climbStairs(n):\n",
    "    if n<=0:\n",
    "        return 0\n",
    "    if n==1:\n",
    "        return 1\n",
    "    if n == 2:\n",
    "        return 2\n",
    "    if n == 3:\n",
    "        return 4\n",
    "    a = 1\n",
    "    b = 2\n",
    "    c = 4\n",
    "    steps = 0\n",
    "    for i in range(3,n):\n",
    "        steps = a+b+c\n",
    "        a = b\n",
    "        b = c\n",
    "        c=steps\n",
    "    return c\n",
    "climbStairs(5)"
   ]
  },
  {
   "cell_type": "markdown",
   "metadata": {},
   "source": [
    "# Duplicates/Unique number in list"
   ]
  },
  {
   "cell_type": "markdown",
   "metadata": {},
   "source": [
    "## each number appears X times except 1, that appears ONCE"
   ]
  },
  {
   "cell_type": "code",
   "execution_count": null,
   "metadata": {
    "collapsed": false
   },
   "outputs": [],
   "source": [
    "a = [1,1,1,3,2,2,3,4,5,6,5,6,5,6,3]\n",
    "def find_diff_appearance(nums,k):\n",
    "    ans = 0\n",
    "    for i in range(32):\n",
    "        bitSum = 0\n",
    "        for j in nums:\n",
    "            if ((j>>i)&1)==1:\n",
    "                bitSum+=1\n",
    "                bitSum%=3\n",
    "        if bitSum!=0:\n",
    "            #print \"ans: \"+str((bitSum<<i, ans, i))\n",
    "            ans |= bitSum<<i\n",
    "    return ans\n",
    "find_diff_appearance(a,3)"
   ]
  },
  {
   "cell_type": "markdown",
   "metadata": {},
   "source": [
    "## Find unique char in string"
   ]
  },
  {
   "cell_type": "code",
   "execution_count": null,
   "metadata": {
    "collapsed": false
   },
   "outputs": [],
   "source": [
    "def isUnique(s):\n",
    "    if len(s)>26:\n",
    "        return False\n",
    "    checker = 0\n",
    "    for i in range(len(s)):\n",
    "        val = ord(s[i])-ord('a')\n",
    "        if checker&(1<<val) > 0:\n",
    "            return False\n",
    "        checker |= 1<<val\n",
    "    return True\n",
    "isUnique('abcdc')"
   ]
  },
  {
   "cell_type": "code",
   "execution_count": null,
   "metadata": {
    "collapsed": true
   },
   "outputs": [],
   "source": [
    "\n",
    "\n",
    "public static boolean isUniqueChars(String str) {\n",
    "    if (str.length() > 256) { // NOTE: Are you sure this isn't 26?\n",
    "        return false;\n",
    "    }\n",
    "    int checker = 0;\n",
    "    for (int i = 0; i < str.length(); i++) {\n",
    "        int val = str.charAt(i) - 'a';\n",
    "        if ((checker & (1 << val)) > 0) return false;\n",
    "        checker |= (1 << val);\n",
    "    }\n",
    "    return true;\n",
    "}"
   ]
  },
  {
   "cell_type": "markdown",
   "metadata": {},
   "source": [
    "## Intersection of Two Arrays"
   ]
  },
  {
   "cell_type": "code",
   "execution_count": 137,
   "metadata": {
    "collapsed": false
   },
   "outputs": [
    {
     "name": "stdout",
     "output_type": "stream",
     "text": [
      "[2, 2]\n"
     ]
    }
   ],
   "source": [
    "nums1 = [1,2,2,1]\n",
    "nums2 = [2,2]\n",
    "import collections\n",
    "print list((collections.Counter(nums1) & collections.Counter(nums2)).elements())"
   ]
  },
  {
   "cell_type": "markdown",
   "metadata": {},
   "source": [
    "## Pascal's Triangle"
   ]
  },
  {
   "cell_type": "code",
   "execution_count": 147,
   "metadata": {
    "collapsed": false
   },
   "outputs": [
    {
     "data": {
      "text/plain": [
       "[[1],\n",
       " [1, 1],\n",
       " [1, 2, 1],\n",
       " [1, 3, 3, 1],\n",
       " [1, 4, 6, 4, 1],\n",
       " [1, 5, 10, 10, 5, 1],\n",
       " [1, 6, 15, 20, 15, 6, 1]]"
      ]
     },
     "execution_count": 147,
     "metadata": {},
     "output_type": "execute_result"
    }
   ],
   "source": [
    "def pascal(n):\n",
    "    res = [[1]]\n",
    "    for i in range(1,n):\n",
    "        curr = [1]*(i+1)\n",
    "        for j in range(1,i):\n",
    "            curr[j] = res[i-1][j-1]+res[i-1][j]\n",
    "        res.append(curr)\n",
    "    return res\n",
    "pascal(7)"
   ]
  },
  {
   "cell_type": "markdown",
   "metadata": {},
   "source": [
    "# Power of Number Questions"
   ]
  },
  {
   "cell_type": "markdown",
   "metadata": {
    "collapsed": false
   },
   "source": [
    "## Check if a number is x^y"
   ]
  },
  {
   "cell_type": "code",
   "execution_count": 30,
   "metadata": {
    "collapsed": false
   },
   "outputs": [
    {
     "data": {
      "text/plain": [
       "False"
      ]
     },
     "execution_count": 30,
     "metadata": {},
     "output_type": "execute_result"
    }
   ],
   "source": [
    "#Naive:\n",
    "import math\n",
    "def isPower(x,y):\n",
    "    log = math.log(abs(x))/math.log(abs(y))\n",
    "    if x<0 and y<0:\n",
    "        return log == int(log) and int(log)%2 == 1\n",
    "    if x>0 and y>0:\n",
    "        return log == int(log)\n",
    "    if x>0 and y<0:\n",
    "        return log == int(log) and int(log)%2 == 0\n",
    "    if x<0 and y>0:\n",
    "        return False\n",
    "isPower(-16,2)\n",
    "\n"
   ]
  },
  {
   "cell_type": "code",
   "execution_count": null,
   "metadata": {
    "collapsed": true
   },
   "outputs": [],
   "source": [
    "#Better Approach:\n",
    "\n",
    "\"\"\"\n",
    "1) Initialize pow = x, i = 1\n",
    "2) while (pow < y)\n",
    "   {\n",
    "      pow = pow*pow \n",
    "      i *= 2\n",
    "   }    \n",
    "3) If pow == y\n",
    "     return true;\n",
    "4) Else construct an array of powers\n",
    "   from x^i to x^(i/2)\n",
    "5) Binary Search for y in array constructed\n",
    "   in step 4. If not found, return false. \n",
    "   Else return true.\n",
    "\"\"\""
   ]
  },
  {
   "cell_type": "markdown",
   "metadata": {},
   "source": [
    "## Check if a number is Power of 2:"
   ]
  },
  {
   "cell_type": "code",
   "execution_count": 35,
   "metadata": {
    "collapsed": false
   },
   "outputs": [
    {
     "data": {
      "text/plain": [
       "True"
      ]
     },
     "execution_count": 35,
     "metadata": {},
     "output_type": "execute_result"
    }
   ],
   "source": [
    "def isPowerOf2(n):\n",
    "    return n&(n-1)==0 and n>0\n",
    "isPowerOf2(128)"
   ]
  },
  {
   "cell_type": "markdown",
   "metadata": {},
   "source": [
    "## Check if a number is Power of 3:"
   ]
  },
  {
   "cell_type": "code",
   "execution_count": 52,
   "metadata": {
    "collapsed": false
   },
   "outputs": [
    {
     "data": {
      "text/plain": [
       "True"
      ]
     },
     "execution_count": 52,
     "metadata": {},
     "output_type": "execute_result"
    }
   ],
   "source": [
    "import math\n",
    "def isPowerOf3(n):\n",
    "    maxPowerOf3 = pow(3, int(math.log(abs(2**31))/math.log(abs(3))))\n",
    "    #maxPowerOf3 = 1162261467\n",
    "    return n>0 and maxPowerOf3%n==0\n",
    "    \n",
    "isPowerOf3(81)\n"
   ]
  },
  {
   "cell_type": "markdown",
   "metadata": {},
   "source": [
    "## Check if a number is Power of 4"
   ]
  },
  {
   "cell_type": "code",
   "execution_count": 63,
   "metadata": {
    "collapsed": false
   },
   "outputs": [
    {
     "data": {
      "text/plain": [
       "True"
      ]
     },
     "execution_count": 63,
     "metadata": {},
     "output_type": "execute_result"
    }
   ],
   "source": [
    "def isPowerOf4(num):\n",
    "    n = math.sqrt(abs(num))\n",
    "    return n == int(n) and int(n)&(int(n)-1)==0 and num>0\n",
    "isPowerOf4(16)"
   ]
  },
  {
   "cell_type": "code",
   "execution_count": 92,
   "metadata": {
    "collapsed": false
   },
   "outputs": [
    {
     "data": {
      "text/plain": [
       "(1, [])"
      ]
     },
     "execution_count": 92,
     "metadata": {},
     "output_type": "execute_result"
    }
   ],
   "source": [
    "q = []\n",
    "q.append(1)\n",
    "a = q.pop(0)\n",
    "a,q"
   ]
  },
  {
   "cell_type": "markdown",
   "metadata": {},
   "source": [
    "## Check if a number can be represented as 2^a + 2^b"
   ]
  },
  {
   "cell_type": "code",
   "execution_count": 89,
   "metadata": {
    "collapsed": false
   },
   "outputs": [
    {
     "name": "stdout",
     "output_type": "stream",
     "text": [
      "1 2 2\n"
     ]
    },
    {
     "data": {
      "text/plain": [
       "True"
      ]
     },
     "execution_count": 89,
     "metadata": {},
     "output_type": "execute_result"
    }
   ],
   "source": [
    "def check(n):\n",
    "    if n<2:\n",
    "        return False\n",
    "    x = 2\n",
    "    power = 1\n",
    "    while(x<n):\n",
    "        power+=1\n",
    "        x = pow(2, power)\n",
    "    if int(x)==n:\n",
    "        print power, x, n\n",
    "        return True\n",
    "    else:\n",
    "        n2 = n-pow(2,power-1)\n",
    "        y = 2\n",
    "        power = 1\n",
    "        while(y<n2):\n",
    "            power+=1\n",
    "            y = pow(2, power)\n",
    "        if int(y)==n2:\n",
    "            print power, y, n2\n",
    "            return True\n",
    "        return y, n\n",
    "check(6)"
   ]
  },
  {
   "cell_type": "markdown",
   "metadata": {},
   "source": [
    "   ## Print 1-n in order as follows: 1 10 100 101..109 11 110..119 ..."
   ]
  },
  {
   "cell_type": "code",
   "execution_count": 77,
   "metadata": {
    "collapsed": false
   },
   "outputs": [
    {
     "name": "stdout",
     "output_type": "stream",
     "text": [
      "[1, 10, 2, 3, 4, 5, 6, 7, 8, 9]\n"
     ]
    }
   ],
   "source": [
    "\"\"\"\n",
    "                     1\n",
    "        10           11          12\n",
    "    100   109      110 119   120   123\n",
    "\"\"\"\n",
    "def printNumbersDFS(n):\n",
    "    def dfs(n, curr, res):\n",
    "        if curr>n:\n",
    "            return\n",
    "        res.append(curr)\n",
    "        for i in range(10):\n",
    "            if curr*10+i>n:\n",
    "                return\n",
    "            dfs(n, curr*10+i, res)\n",
    "\n",
    "    res = []\n",
    "    for i in range(1,10):\n",
    "        dfs(n, i, res)\n",
    "    return res\n",
    "            \n",
    "print printNumbersDFS(10)\n",
    "\n",
    "def printNumbersIterative(n):\n",
    "    res = []\n",
    "    curr=1\n",
    "    #res.append(curr)\n",
    "    for i in range(1,n+1):\n",
    "        res.append(curr)\n",
    "        if curr*10<=n:\n",
    "            curr*=10\n",
    "        elif curr%10!=9 and curr+1<=n:\n",
    "            curr+=1\n",
    "        else:\n",
    "            while((curr/10)%10==9):\n",
    "                curr/=10\n",
    "            curr=(curr/10)+1\n",
    "        \n",
    "    print res\n",
    "#printNumbersIterative(192)       "
   ]
  },
  {
   "cell_type": "markdown",
   "metadata": {},
   "source": [
    "# Binary search questions"
   ]
  },
  {
   "cell_type": "markdown",
   "metadata": {},
   "source": [
    "## Binary search general - search for a number:"
   ]
  },
  {
   "cell_type": "code",
   "execution_count": 103,
   "metadata": {
    "collapsed": false
   },
   "outputs": [
    {
     "data": {
      "text/plain": [
       "-1"
      ]
     },
     "execution_count": 103,
     "metadata": {},
     "output_type": "execute_result"
    }
   ],
   "source": [
    "nums = [1,3,3,5,8,9,13,13,13,15,17]\n",
    "k = 4\n",
    "def binary_search(nums, k):\n",
    "    lo, hi = 0, len(nums)\n",
    "    while lo<=hi:\n",
    "        mid = lo+(hi-lo)/2\n",
    "        if nums[mid] == k:\n",
    "            return mid\n",
    "        if nums[mid]<k:\n",
    "            lo=mid+1\n",
    "        else:\n",
    "            hi = mid-1\n",
    "    return -1\n",
    "binary_search(nums, k)"
   ]
  },
  {
   "cell_type": "markdown",
   "metadata": {},
   "source": [
    "## Find duplicate number in range:"
   ]
  },
  {
   "cell_type": "code",
   "execution_count": 2,
   "metadata": {
    "collapsed": false
   },
   "outputs": [
    {
     "data": {
      "text/plain": [
       "3"
      ]
     },
     "execution_count": 2,
     "metadata": {},
     "output_type": "execute_result"
    }
   ],
   "source": [
    "nums = [1,2,2,2,3,4,5,6,7,8]\n",
    "def find_duplicate(nums):\n",
    "    lo,hi = 0,len(nums)\n",
    "    while lo<=hi:\n",
    "        mid = lo+(hi-lo)/2\n",
    "        if nums[mid]<mid:\n",
    "            hi = mid-1\n",
    "        if nums[mid]==mid:\n",
    "            lo = mid+1\n",
    "    return mid\n",
    "find_duplicate(nums)"
   ]
  },
  {
   "cell_type": "markdown",
   "metadata": {},
   "source": [
    "## Find number of occurences of key in sorted list"
   ]
  },
  {
   "cell_type": "code",
   "execution_count": 3,
   "metadata": {
    "collapsed": false
   },
   "outputs": [
    {
     "name": "stdout",
     "output_type": "stream",
     "text": [
      "0 3\n"
     ]
    },
    {
     "data": {
      "text/plain": [
       "4"
      ]
     },
     "execution_count": 3,
     "metadata": {},
     "output_type": "execute_result"
    }
   ],
   "source": [
    "nums = [1,2,2,2,3,4,5,6,7,8]\n",
    "k = 2\n",
    "k = nums[find_duplicate(nums)]\n",
    "\n",
    "nums = [2,2,2,2]\n",
    "k = nums[find_duplicate(nums)]\n",
    "def find_occurences(nums, key):\n",
    "    first = find_first_occurence(nums, key)\n",
    "    last = find_last_occurence(nums, key)\n",
    "    print first, last\n",
    "    return last-first+1\n",
    "    \n",
    "def find_first_occurence(nums,key):\n",
    "    lo, hi = 0, len(nums)-1\n",
    "    while lo<=hi:\n",
    "        mid = lo+(hi-lo)/2\n",
    "        if nums[mid]>key:\n",
    "            hi = mid-1\n",
    "        elif nums[mid]<key:\n",
    "            lo = mid+1\n",
    "        elif nums[mid]==key and mid == 0 or nums[mid-1]!=key:\n",
    "            return mid\n",
    "        else: hi = mid-1\n",
    "    return -1\n",
    "\n",
    "def find_last_occurence(nums,key):\n",
    "    lo, hi = 0, len(nums)-1\n",
    "    while lo<=hi:\n",
    "        mid = lo+(hi-lo)/2\n",
    "        if nums[mid]>key:\n",
    "            hi = mid-1\n",
    "        elif nums[mid]<key:\n",
    "            lo = mid+1\n",
    "        elif nums[mid]==key and mid == len(nums)-1 or nums[mid+1]!=key:\n",
    "            return mid\n",
    "        else: lo = mid+1\n",
    "    return -1\n",
    "find_occurences(nums, k)"
   ]
  },
  {
   "cell_type": "markdown",
   "metadata": {
    "collapsed": true
   },
   "source": [
    "## Find rotated point in list"
   ]
  },
  {
   "cell_type": "code",
   "execution_count": 27,
   "metadata": {
    "collapsed": false
   },
   "outputs": [
    {
     "name": "stdout",
     "output_type": "stream",
     "text": [
      "after  (0, 5, 5, 2)\n",
      "after  (3, 5, 2, 17)\n",
      "after  (3, 4, 4, 1)\n",
      "after  (3, 3, 3, 0)\n"
     ]
    },
    {
     "data": {
      "text/plain": [
       "3"
      ]
     },
     "execution_count": 27,
     "metadata": {},
     "output_type": "execute_result"
    }
   ],
   "source": [
    "nums = [15, 16, 17, 0, 1, 2, 3, 4, 5, 6, 7]\n",
    "def find_rotated_point(nums):\n",
    "    lo = 0\n",
    "    hi = len(nums)-1\n",
    "    while lo<hi:\n",
    "        mid = lo+(hi-lo)/2\n",
    "        #print lo, hi, mid, nums[mid]\n",
    "        if nums[mid]>nums[hi]:\n",
    "            lo = mid+1\n",
    "        else:\n",
    "            hi = mid\n",
    "        print \"after \", str((lo, hi, mid, nums[mid]))\n",
    "    return lo\n",
    "find_rotated_point(nums)"
   ]
  },
  {
   "cell_type": "markdown",
   "metadata": {},
   "source": [
    "## Search in rotated list"
   ]
  },
  {
   "cell_type": "code",
   "execution_count": 35,
   "metadata": {
    "collapsed": false
   },
   "outputs": [
    {
     "name": "stdout",
     "output_type": "stream",
     "text": [
      "after  (0, 3, 3, 0)\n",
      "after  (2, 3, 1, 6)\n",
      "after  (3, 3, 2, 7)\n"
     ]
    },
    {
     "data": {
      "text/plain": [
       "2"
      ]
     },
     "execution_count": 35,
     "metadata": {},
     "output_type": "execute_result"
    }
   ],
   "source": [
    "nums = [5, 6, 7, 0, 1, 2, 3, 4]\n",
    "def search_in_rotated_list(nums, k):\n",
    "    rotated_point = find_rotated_point(nums)\n",
    "    lo = rotated_point\n",
    "    hi = len(nums)+rotated_point-1\n",
    "    while lo<=hi:\n",
    "        mid = (lo+(hi-lo)/2)\n",
    "        if nums[mid%len(nums)]==k:\n",
    "            return mid%len(nums)\n",
    "        if nums[mid%len(nums)]>k:\n",
    "            hi = mid-1\n",
    "        else:\n",
    "            lo = mid+1\n",
    "    return -1\n",
    "search_in_rotated_list(nums, 7)"
   ]
  },
  {
   "cell_type": "markdown",
   "metadata": {},
   "source": [
    "## Sqrt without functions, using Newton's method with binary search"
   ]
  },
  {
   "cell_type": "code",
   "execution_count": 73,
   "metadata": {
    "collapsed": false
   },
   "outputs": [
    {
     "name": "stdout",
     "output_type": "stream",
     "text": [
      "1.5 3 2.25 1.5\n",
      "1.5 2.25 1.875 2.25\n",
      "1.5 1.875 1.6875 1.875\n",
      "1.6875 1.875 1.78125 1.6875\n"
     ]
    },
    {
     "data": {
      "text/plain": [
       "2"
      ]
     },
     "execution_count": 73,
     "metadata": {},
     "output_type": "execute_result"
    }
   ],
   "source": [
    "def sqrt(n, precision=0.1):\n",
    "    if n == 1:\n",
    "        return 1\n",
    "    if n == 0:\n",
    "        return 0\n",
    "    lo = 0.0\n",
    "    hi = max(n, 1.0)\n",
    "    prev = 0\n",
    "    mid = lo + (hi-lo)/ 2.0\n",
    "    while abs(mid - prev) > precision:\n",
    "        if mid ** 2 > n:\n",
    "            hi = mid\n",
    "        else:\n",
    "            lo = mid\n",
    "        prev, mid = mid, (lo + hi) / 2.0\n",
    "        print lo, hi, mid, prev\n",
    "    return int(mid+1) if mid%1>0.5 else int(mid)\n",
    "sqrt(3)"
   ]
  },
  {
   "cell_type": "code",
   "execution_count": 70,
   "metadata": {
    "collapsed": false
   },
   "outputs": [
    {
     "data": {
      "text/plain": [
       "0.9699999999999998"
      ]
     },
     "execution_count": 70,
     "metadata": {},
     "output_type": "execute_result"
    }
   ],
   "source": [
    "6.97%1"
   ]
  },
  {
   "cell_type": "code",
   "execution_count": 78,
   "metadata": {
    "collapsed": false
   },
   "outputs": [
    {
     "name": "stdout",
     "output_type": "stream",
     "text": [
      "36 36\n",
      "18 36\n",
      "10 36\n",
      "6 36\n"
     ]
    },
    {
     "data": {
      "text/plain": [
       "6"
      ]
     },
     "execution_count": 78,
     "metadata": {},
     "output_type": "execute_result"
    }
   ],
   "source": [
    "def sqrt(x):\n",
    "    r = x\n",
    "    print r, x\n",
    "    while r*r > x:\n",
    "        r = (r + x/r) / 2\n",
    "        print r, x\n",
    "    return r\n",
    "sqrt(36)"
   ]
  },
  {
   "cell_type": "code",
   "execution_count": 99,
   "metadata": {
    "collapsed": false
   },
   "outputs": [
    {
     "name": "stdout",
     "output_type": "stream",
     "text": [
      "1 2 1 2\n",
      "2 2 2 1\n"
     ]
    },
    {
     "data": {
      "text/plain": [
       "(2, 2, 1)"
      ]
     },
     "execution_count": 99,
     "metadata": {},
     "output_type": "execute_result"
    }
   ],
   "source": [
    "def sqrt(x):\n",
    "    lo, hi = 1, x\n",
    "    mid = lo + (hi-lo)/2\n",
    "    while lo<=hi:\n",
    "        mid = lo + (hi-lo)/2\n",
    "        print lo, hi, mid, x/mid\n",
    "        if mid == x/mid:\n",
    "            return mid\n",
    "        elif mid > x/mid:\n",
    "            hi = mid-1\n",
    "        else:\n",
    "            lo = mid+1\n",
    "    return mid, lo, hi\n",
    "sqrt(2)"
   ]
  },
  {
   "cell_type": "markdown",
   "metadata": {},
   "source": [
    "## Find point of rotation in list"
   ]
  },
  {
   "cell_type": "code",
   "execution_count": 139,
   "metadata": {
    "collapsed": false
   },
   "outputs": [
    {
     "name": "stdout",
     "output_type": "stream",
     "text": [
      "0 7 3 7\n",
      "3 7 5 1\n"
     ]
    },
    {
     "data": {
      "text/plain": [
       "5"
      ]
     },
     "execution_count": 139,
     "metadata": {},
     "output_type": "execute_result"
    }
   ],
   "source": [
    "nums = [4, 5, 6, 7, 0, 1, 2, 3]\n",
    "def find_rotated_point(nums):\n",
    "    lo = 0\n",
    "    hi = len(nums)-1\n",
    "    while lo<=hi:\n",
    "        mid = lo + (hi-lo)/2\n",
    "        print lo, hi, mid, nums[mid]\n",
    "        if nums[mid]<nums[hi]:\n",
    "            hi = mid\n",
    "        if nums[mid]>nums[hi]:\n",
    "            lo = mid\n",
    "        else:\n",
    "            return mid\n",
    "    return mid\n",
    "find_rotated_point(nums)"
   ]
  },
  {
   "cell_type": "markdown",
   "metadata": {},
   "source": [
    "# LRU Cache\n"
   ]
  },
  {
   "cell_type": "code",
   "execution_count": null,
   "metadata": {
    "collapsed": true
   },
   "outputs": [],
   "source": [
    "class Node:\n",
    "    \n",
    "    def __init__(self, k, v):\n",
    "        self.key,self.val = k,v\n",
    "        self.prev = None\n",
    "        self.next = None\n",
    "    \n",
    "class LRUCache:\n",
    "    \n",
    "    def __init__(self, c):\n",
    "        self.capacity = c\n",
    "        self.hash_map = {}\n",
    "        self.head = Node(0,0)\n",
    "        self.tail = Node(0,0)\n",
    "        self.head.next = self.tail\n",
    "        self.tail.prev = self.head\n",
    "    \n",
    "    def get(self,key):\n",
    "        if key in self.hash_map:\n",
    "            #Remove from doubly linked list and add at tail\n",
    "            n = self.hash_map[key]\n",
    "            self._remove(n)\n",
    "            self._add(n)\n",
    "            return n.val\n",
    "        return -1\n",
    "    \n",
    "    def put(self,key, val):\n",
    "        if key in self.hash_map:\n",
    "            self._remove(self.hash_map[key])\n",
    "        n = Node(key,val)\n",
    "        self._add(n)\n",
    "        self.hash_map[key] = n\n",
    "        if len(self.hash_map)>self.capacity:\n",
    "            n = self.head.next\n",
    "            self._remove(n)\n",
    "            self.hash_map.pop(n.key)\n",
    "            \n",
    "    def _remove(self,node):\n",
    "        p,n = node.prev, node.next\n",
    "        p.next = n\n",
    "        n.prev = p\n",
    "        \n",
    "    def _add(self,node):\n",
    "        p = self.tail.prev\n",
    "        p.next = node\n",
    "        self.tail.prev = node\n",
    "        node.prev = p\n",
    "        node.next = self.tail\n",
    "            \n",
    "            "
   ]
  },
  {
   "cell_type": "code",
   "execution_count": null,
   "metadata": {
    "collapsed": false
   },
   "outputs": [],
   "source": [
    "cache = LRUCache(2)\n",
    "\n",
    "cache.put(1, 1)\n",
    "cache.put(2, 2)\n",
    "print cache.get(1)        # returns 1\n",
    "print cache.put(3, 3)     # evicts key 2\n",
    "print cache.get(2)        # returns -1 (not found)\n",
    "print cache.put(4, 4)     # evicts key 1\n",
    "print cache.get(1)        # returns -1 (not found)\n",
    "print cache.get(3)        # returns 3\n",
    "cache.get(4)        # returns 4"
   ]
  },
  {
   "cell_type": "markdown",
   "metadata": {},
   "source": [
    "## 3. Isomorphic Strings"
   ]
  },
  {
   "cell_type": "code",
   "execution_count": null,
   "metadata": {
    "collapsed": false
   },
   "outputs": [],
   "source": [
    "s, t= \"eggquhksdu@@:'h82shss\", \"add\"\n",
    "map(s.find, s) == map(t.find, t)\n"
   ]
  },
  {
   "cell_type": "markdown",
   "metadata": {},
   "source": [
    "## 4. Word Ladder"
   ]
  },
  {
   "cell_type": "code",
   "execution_count": null,
   "metadata": {
    "collapsed": true
   },
   "outputs": [],
   "source": [
    "beginWord = \"hit\"\n",
    "endWord = \"cog\"\n",
    "wordList = [\"hot\",\"dot\",\"dog\",\"lot\",\"log\"]"
   ]
  },
  {
   "cell_type": "code",
   "execution_count": null,
   "metadata": {
    "collapsed": true
   },
   "outputs": [],
   "source": [
    "def findLadders(begin, end, words_list):\n",
    "    \"\"\"\n",
    "    :type beginWord: str\n",
    "    :type endWord: str\n",
    "    :type wordlist: Set[str]\n",
    "    :rtype: List[List[int]]\n",
    "    \"\"\"\n",
    "    def construct_paths(source, dest, tree):\n",
    "        if source == dest: \n",
    "            return [[source]]\n",
    "        return [[source] + path for succ in tree[source]\n",
    "                                for path in construct_paths(succ, dest, tree)]\n",
    "\n",
    "    def add_path(tree, word, neigh, is_forw):\n",
    "        if is_forw: tree[word]  += neigh,\n",
    "        else:       tree[neigh] += word,\n",
    "\n",
    "    def bfs_level(this_lev, oth_lev, tree, is_forw, words_set):\n",
    "        if not this_lev: return False\n",
    "        if len(this_lev) > len(oth_lev):\n",
    "            return bfs_level(oth_lev, this_lev, tree, not is_forw, words_set)\n",
    "        for word in (this_lev | oth_lev):\n",
    "            words_set.discard(word)\n",
    "        next_lev, done = set(), False\n",
    "        while this_lev:\n",
    "            word = this_lev.pop()\n",
    "            for c in string.ascii_lowercase:\n",
    "                for index in range(len(word)):\n",
    "                    neigh = word[:index] + c + word[index+1:]\n",
    "                    if neigh in oth_lev:\n",
    "                        done = True\n",
    "                        add_path(tree, word, neigh, is_forw)                \n",
    "                    if not done and neigh in words_set:\n",
    "                        next_lev.add(neigh)\n",
    "                        add_path(tree, word, neigh, is_forw)\n",
    "        return done or bfs_level(next_lev, oth_lev, tree, is_forw, words_set)\n",
    "\n",
    "    tree, path, paths = collections.defaultdict(list), [begin], []\n",
    "    is_found = bfs_level(set([begin]), set([end]), tree, True, words_list)\n",
    "    return construct_paths(begin, end, tree)"
   ]
  },
  {
   "cell_type": "markdown",
   "metadata": {},
   "source": [
    "## 72. Max of Moving Window"
   ]
  },
  {
   "cell_type": "code",
   "execution_count": 79,
   "metadata": {
    "collapsed": false
   },
   "outputs": [
    {
     "data": {
      "text/plain": [
       "[3, 3, 5, 5]"
      ]
     },
     "execution_count": 79,
     "metadata": {},
     "output_type": "execute_result"
    }
   ],
   "source": [
    "def maxSlidingWindow(nums, k):\n",
    "    \"\"\"\n",
    "    :type nums: List[int]\n",
    "    :type k: int\n",
    "    :rtype: List[int]\n",
    "    \"\"\"\n",
    "    import collections\n",
    "    double_ended_queue = collections.deque()\n",
    "    output = []\n",
    "    for i in range(len(nums)):\n",
    "        while double_ended_queue and nums[double_ended_queue[-1]] < nums[i]:\n",
    "            double_ended_queue.pop()\n",
    "        double_ended_queue += i,\n",
    "        if double_ended_queue[0] == i-k:\n",
    "            double_ended_queue.popleft()\n",
    "        if i>= k-1:\n",
    "            output += nums[double_ended_queue[0]],\n",
    "    return output\n",
    "\n",
    "maxSlidingWindow([-1,3,-1,2,5,3], 3)"
   ]
  },
  {
   "cell_type": "markdown",
   "metadata": {},
   "source": [
    "## 5. Median of Two Sorted Arrays:"
   ]
  },
  {
   "cell_type": "code",
   "execution_count": null,
   "metadata": {
    "collapsed": false
   },
   "outputs": [],
   "source": [
    "a = float(5)\n",
    "import math\n",
    "math.ceil(a/2)"
   ]
  },
  {
   "cell_type": "code",
   "execution_count": null,
   "metadata": {
    "collapsed": false
   },
   "outputs": [],
   "source": [
    "float(5)/2"
   ]
  },
  {
   "cell_type": "code",
   "execution_count": null,
   "metadata": {
    "collapsed": true
   },
   "outputs": [],
   "source": [
    "a = []\n",
    "b = [2,5]"
   ]
  },
  {
   "cell_type": "code",
   "execution_count": null,
   "metadata": {
    "collapsed": false
   },
   "outputs": [],
   "source": [
    "merged = sorted(a+b)\n",
    "print merged\n",
    "len_merged = float(len(merged))\n",
    "print len_merged\n",
    "int(math.floor(len_merged/2))"
   ]
  },
  {
   "cell_type": "code",
   "execution_count": null,
   "metadata": {
    "collapsed": false
   },
   "outputs": [],
   "source": [
    "int(len_merged/2)"
   ]
  },
  {
   "cell_type": "code",
   "execution_count": null,
   "metadata": {
    "collapsed": false
   },
   "outputs": [],
   "source": [
    "if len_merged%2==0:\n",
    "    print \"a\"\n",
    "    print float(merged[int((len_merged-1)/2)]+merged[int((len_merged-1)/2)+1])/2\n",
    "else: \n",
    "    #print \"b\"\n",
    "    print merged[int(math.ceil(len_merged-1/2))]"
   ]
  },
  {
   "cell_type": "markdown",
   "metadata": {
    "collapsed": true
   },
   "source": [
    "## Rock Collections"
   ]
  },
  {
   "cell_type": "code",
   "execution_count": null,
   "metadata": {
    "collapsed": false
   },
   "outputs": [],
   "source": [
    "from collections import Counter\n",
    "def get_rock_index(j):\n",
    "    if not j:\n",
    "        return 0\n",
    "    n = sorted(j)\n",
    "    g = [j[i]+n[i] for i,v in enumerate(j)]\n",
    "    most_common = Counter(g).most_common()\n",
    "    highest_freq = most_common[0][1]\n",
    "    high_values = [i[0] for i in most_common if i[1] == highest_freq]\n",
    "    high = max(high_values)   \n",
    "    index = 0\n",
    "    for i,v in enumerate(g):\n",
    "        if v ==high:\n",
    "            index = i\n",
    "    return index"
   ]
  },
  {
   "cell_type": "code",
   "execution_count": null,
   "metadata": {
    "collapsed": false
   },
   "outputs": [],
   "source": [
    "j = [10,10,7,7,7,2,7,2]\n",
    "get_rock_index(j)"
   ]
  },
  {
   "cell_type": "markdown",
   "metadata": {},
   "source": [
    "## Sieve of Eratosthenes - All prime numbers from 1 to n"
   ]
  },
  {
   "cell_type": "code",
   "execution_count": null,
   "metadata": {
    "collapsed": false
   },
   "outputs": [],
   "source": [
    "import math\n",
    "def primes(n):\n",
    "    j = 2\n",
    "    arr = [i for i in range(n)]\n",
    "    for i in range(2,int(math.sqrt(n))+1):\n",
    "        if arr[i] != False:\n",
    "            for j in range(i*2, n, i):\n",
    "                arr[j] = False\n",
    "    print [i for i in arr if i is not False]\n",
    "primes(100)"
   ]
  },
  {
   "cell_type": "markdown",
   "metadata": {},
   "source": [
    "## Spiral Matrix"
   ]
  },
  {
   "cell_type": "code",
   "execution_count": null,
   "metadata": {
    "collapsed": false
   },
   "outputs": [],
   "source": [
    "grid = [\n",
    "    [ 1, 2, 3, 4],\n",
    "    [ 5, 6, 7, 8],\n",
    "    [ 9,10,11,12],\n",
    "    [13,14,15,16]\n",
    "    ]\n",
    "def spiral(grid):\n",
    "    i,j = 0,0\n",
    "    di,dj = 0,1\n",
    "    m,n = len(grid),len(grid[0])\n",
    "    res=[]\n",
    "    for x in range(m*n):\n",
    "        res.append(grid[i][j])\n",
    "        grid[i][j] = True\n",
    "        if grid[(i+di)%m][(j+dj)%n] == True:\n",
    "            di,dj = dj,-di\n",
    "        i+=di\n",
    "        j+=dj\n",
    "    return grid, res\n",
    "\n",
    "spiral(grid)"
   ]
  },
  {
   "cell_type": "markdown",
   "metadata": {},
   "source": [
    "## Reverse an integer"
   ]
  },
  {
   "cell_type": "code",
   "execution_count": null,
   "metadata": {
    "collapsed": false
   },
   "outputs": [],
   "source": [
    "n = 1230\n",
    "res=0\n",
    "while n>0:\n",
    "    x = n%10\n",
    "    n = n/10\n",
    "    res=res*10+x\n",
    "res"
   ]
  },
  {
   "cell_type": "markdown",
   "metadata": {},
   "source": [
    "## Move zeroes to end"
   ]
  },
  {
   "cell_type": "code",
   "execution_count": null,
   "metadata": {
    "collapsed": false
   },
   "outputs": [],
   "source": [
    "a = [0,1,0,1,1,0]\n",
    "i,j = 0,len(a)-1\n",
    "while i<j:\n",
    "    if a[j]>a[i]:\n",
    "        a[j],a[i] = a[i],a[j]\n",
    "        i+=1\n",
    "        j-=1\n",
    "    elif a[j]==0 and a[i]==0:\n",
    "        j-=1\n",
    "    else:\n",
    "        i+=1\n",
    "a"
   ]
  },
  {
   "cell_type": "markdown",
   "metadata": {},
   "source": [
    "# Palindrome Questions"
   ]
  },
  {
   "cell_type": "markdown",
   "metadata": {},
   "source": [
    "## Check if Palindrome String"
   ]
  },
  {
   "cell_type": "code",
   "execution_count": null,
   "metadata": {
    "collapsed": false
   },
   "outputs": [],
   "source": [
    "s = \"anna\"\n",
    "def isPalindrome(s):\n",
    "    i,j = 0, len(s)-1\n",
    "    while i<j:\n",
    "        if s[i]==s[j]:\n",
    "            i+=1\n",
    "            j-=1\n",
    "        else:\n",
    "            return False\n",
    "    return True\n",
    "isPalindrome(s)"
   ]
  },
  {
   "cell_type": "markdown",
   "metadata": {},
   "source": [
    "## Check if Palindrome Number"
   ]
  },
  {
   "cell_type": "code",
   "execution_count": null,
   "metadata": {
    "collapsed": false
   },
   "outputs": [],
   "source": [
    "n = 1551\n",
    "def isPalindrome(n):\n",
    "    r = 0\n",
    "    o = n\n",
    "    while n>0:\n",
    "        x = n%10\n",
    "        n = n/10\n",
    "        r = 10*r+x\n",
    "    #print o, r\n",
    "    return r == o\n",
    "isPalindrome(n)"
   ]
  },
  {
   "cell_type": "markdown",
   "metadata": {},
   "source": [
    "## Longest Possible Palindrome Length"
   ]
  },
  {
   "cell_type": "code",
   "execution_count": null,
   "metadata": {
    "collapsed": false
   },
   "outputs": [],
   "source": [
    "s = \"ccd\"\n",
    "import collections\n",
    "def longestPalindromeLength(s):\n",
    "    counter = collections.Counter(s)\n",
    "    count = 0\n",
    "    for i in counter:\n",
    "        #print i, counter[i]\n",
    "        count+=(counter[i]/2)*2\n",
    "        counter[i]%=2\n",
    "        #print i, counter[i]\n",
    "    for i in counter:\n",
    "        print i, counter[i]\n",
    "        if counter[i]>0:\n",
    "            count += 1\n",
    "            break\n",
    "    return count\n",
    "\n",
    "longestPalindromeLength(s)"
   ]
  },
  {
   "cell_type": "markdown",
   "metadata": {},
   "source": [
    "## Longest Palindrome Substring"
   ]
  },
  {
   "cell_type": "code",
   "execution_count": null,
   "metadata": {
    "collapsed": false
   },
   "outputs": [],
   "source": [
    "import numpy as np\n",
    "string = \"abba\"\n",
    "def find_longest_palindrome(string):\n",
    "    max_count = 0\n",
    "    max_string = \"\"\n",
    "    for i in np.arange(0, float(len(string)), 0.5):\n",
    "        #print i\n",
    "        new_string = \"\"\n",
    "        count = 0\n",
    "        if i%0.5==0:\n",
    "            new_string = string[int(i)]\n",
    "            count += 1\n",
    "        x = i-0.5\n",
    "        y = i+0.5\n",
    "        print x, y, int(x), int(y), x%1\n",
    "        if x%1 == 0:\n",
    "            x,y = int(x),int(y)\n",
    "        else:\n",
    "            x,y = int(x), int(y)+1\n",
    "        #print x, y\n",
    "        while x>=0 and y<=len(string)-1 and string[x] == string[y]:\n",
    "            x-=1\n",
    "            y+=1\n",
    "            count+=2\n",
    "            new_string = string[x+1:y]\n",
    "            #print x, y, count\n",
    "        if count > max_count:\n",
    "            max_count = count\n",
    "            max_string = new_string\n",
    "    return max_count, max_string\n",
    "\n",
    "find_longest_palindrome(string)"
   ]
  },
  {
   "cell_type": "markdown",
   "metadata": {},
   "source": [
    "## Longest Palindrome Subsequence"
   ]
  },
  {
   "cell_type": "code",
   "execution_count": null,
   "metadata": {
    "collapsed": false
   },
   "outputs": [],
   "source": [
    "a = \"abcbda\"\n",
    "\n",
    "def longest_palin_subseq_2d(s):\n",
    "    n = len(s)\n",
    "    res = [[0 for x in range(n)] for y in range(n)]\n",
    "    for i in range(n):\n",
    "        res[i][i] = 1\n",
    "    for l in range(1,n):\n",
    "        for i in range(n):\n",
    "            j=i+l\n",
    "            if l+i<n:\n",
    "                #print s[i],s[l+i], i, i+l\n",
    "                if s[i]==s[j]:\n",
    "                    if l == 1:\n",
    "                        res[i][j] = 2\n",
    "                    else:\n",
    "                        res[i][j] = 2 + res[i+1][j-1]\n",
    "                else:\n",
    "                    res[i][j] = max(res[i][j-1], res[i+1][j])\n",
    "    #return res\n",
    "    i, j = 0, n-1\n",
    "    palin_sub=[-1 for x in range(n)]\n",
    "    while res[i][j] > 0:\n",
    "        print res[i][j], i, j, s[i], s[j]\n",
    "        if res[i][j]>res[i][j-1] and res[i][j]>res[i+1][j]:\n",
    "            palin_sub[i] = s[i]\n",
    "            palin_sub[j] = s[j]\n",
    "            print palin_sub\n",
    "            i+=1\n",
    "            j-=1\n",
    "        else:\n",
    "            if (res[i][j-1] >= res[i+1][j]):\n",
    "                j-=1\n",
    "            else:\n",
    "                i+=1\n",
    "    print res[i][j], i, j, s[i], s[j]\n",
    "    return palin_sub, res, ''.join([i for i in palin_sub if i!=-1])\n",
    "longest_palin_subseq_2d(a)"
   ]
  },
  {
   "cell_type": "markdown",
   "metadata": {},
   "source": [
    "# Dynamic Programming (DP) Questions"
   ]
  },
  {
   "cell_type": "markdown",
   "metadata": {},
   "source": [
    "## Maximum Contiguous Subarray"
   ]
  },
  {
   "cell_type": "code",
   "execution_count": 80,
   "metadata": {
    "collapsed": false
   },
   "outputs": [
    {
     "data": {
      "text/plain": [
       "6"
      ]
     },
     "execution_count": 80,
     "metadata": {},
     "output_type": "execute_result"
    }
   ],
   "source": [
    "nums = [-2,1,-3,4,-1,2,1,-5,4]\n",
    "def maxSubarray(nums):\n",
    "    res = [0]*len(nums)\n",
    "    for i in range(len(nums)):\n",
    "        res[i] = max(res[i-1]+nums[i], nums[i])\n",
    "    #print res\n",
    "    return max(res)\n",
    "maxSubarray(nums)"
   ]
  },
  {
   "cell_type": "code",
   "execution_count": 89,
   "metadata": {
    "collapsed": false
   },
   "outputs": [
    {
     "data": {
      "text/plain": [
       "-1"
      ]
     },
     "execution_count": 89,
     "metadata": {},
     "output_type": "execute_result"
    }
   ],
   "source": [
    "nums = [-2,1,-3,4,-1,2,1,-5,4]\n",
    "nums = [-2,-1]\n",
    "def maxSubarray(nums):\n",
    "    if not nums:\n",
    "        return 0\n",
    "    if len(nums)==1:\n",
    "        return nums[0]\n",
    "    currSum, maxSum = nums[0],nums[0]\n",
    "    for i in range(1,len(nums)):\n",
    "        currSum = max(currSum+nums[i], nums[i])\n",
    "        #print currSum, maxSum\n",
    "        maxSum = max(currSum, maxSum)\n",
    "    return maxSum\n",
    "maxSubarray(nums)"
   ]
  },
  {
   "cell_type": "markdown",
   "metadata": {},
   "source": [
    "## Longest Increasing Subsequence (LIS)"
   ]
  },
  {
   "cell_type": "code",
   "execution_count": 103,
   "metadata": {
    "collapsed": false
   },
   "outputs": [
    {
     "data": {
      "text/plain": [
       "4"
      ]
     },
     "execution_count": 103,
     "metadata": {},
     "output_type": "execute_result"
    }
   ],
   "source": [
    "nums = [10, 9, 2, 5, 3, 7, 101, 18]\n",
    "def LIS(nums):\n",
    "    if not nums:\n",
    "        return 0\n",
    "    res = [1]*len(nums)\n",
    "    for i in range(len(nums)):\n",
    "        for j in range(i):\n",
    "            if nums[i]>nums[j]:\n",
    "                res[i] = max(res[j]+1, res[i])\n",
    "    return max(res)\n",
    "LIS(nums)"
   ]
  },
  {
   "cell_type": "code",
   "execution_count": 126,
   "metadata": {
    "collapsed": false
   },
   "outputs": [
    {
     "name": "stdout",
     "output_type": "stream",
     "text": [
      "[<function <lambda> at 0x00000000045B0048>, <function <lambda> at 0x00000000045B00B8>, <function <lambda> at 0x00000000045B0128>, <function <lambda> at 0x00000000045B0198>]\n",
      "[27, 27, 27, 27]\n"
     ]
    }
   ],
   "source": [
    "def sq(x):\n",
    "    return x**x\n",
    "n = [1,2,3,4]\n",
    "n = [lambda x: sq(i) for i in n]\n",
    "print [lambda x : i * x for i in range(4)]\n",
    "print [m(2) for m in n]\n"
   ]
  },
  {
   "cell_type": "markdown",
   "metadata": {},
   "source": [
    "## House Robber"
   ]
  },
  {
   "cell_type": "code",
   "execution_count": 118,
   "metadata": {
    "collapsed": false
   },
   "outputs": [
    {
     "name": "stdout",
     "output_type": "stream",
     "text": [
      "1 1 0\n",
      "1 4 4\n",
      "e=o\n",
      "4 2 4\n",
      "4 8 12\n",
      "14 10 12\n"
     ]
    },
    {
     "data": {
      "text/plain": [
       "(14, [4, 8], [4, 10])"
      ]
     },
     "execution_count": 118,
     "metadata": {},
     "output_type": "execute_result"
    }
   ],
   "source": [
    "nums = [1,4,2,8,10]\n",
    "def rob(nums):\n",
    "    \"\"\"\n",
    "    :type nums: List[int]\n",
    "    :rtype: int\n",
    "    \"\"\"\n",
    "    if not nums:\n",
    "        return 0\n",
    "    oddSum, evenSum = 0,0\n",
    "    e, o = [],[]\n",
    "    res = []\n",
    "    for i,v in enumerate(nums):\n",
    "        if i%2==0:\n",
    "            if evenSum+v >= oddSum:\n",
    "                e.append(v)\n",
    "            else:\n",
    "                print \"e=o\"\n",
    "                e = []+o\n",
    "            evenSum = max(evenSum + v, oddSum)\n",
    "            print evenSum, v, oddSum\n",
    "            \n",
    "        else:\n",
    "            if oddSum+v >= evenSum:\n",
    "                o.append(v)\n",
    "            else:\n",
    "                print \"o=e\"\n",
    "                o = []+e\n",
    "            oddSum = max(oddSum + v, evenSum)\n",
    "            print evenSum, v, oddSum\n",
    "            \n",
    "    return max(oddSum, evenSum), o, e\n",
    "\n",
    "\n",
    "rob(nums)"
   ]
  },
  {
   "cell_type": "code",
   "execution_count": null,
   "metadata": {
    "collapsed": true
   },
   "outputs": [],
   "source": []
  }
 ],
 "metadata": {
  "kernelspec": {
   "display_name": "Python 2",
   "language": "python",
   "name": "python2"
  },
  "language_info": {
   "codemirror_mode": {
    "name": "ipython",
    "version": 2
   },
   "file_extension": ".py",
   "mimetype": "text/x-python",
   "name": "python",
   "nbconvert_exporter": "python",
   "pygments_lexer": "ipython2",
   "version": "2.7.12"
  }
 },
 "nbformat": 4,
 "nbformat_minor": 0
}
