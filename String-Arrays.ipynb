{
 "cells": [
  {
   "cell_type": "markdown",
   "metadata": {},
   "source": [
    "# String/Arrays"
   ]
  },
  {
   "cell_type": "markdown",
   "metadata": {},
   "source": [
    "## 7. Merge Interval"
   ]
  },
  {
   "cell_type": "code",
   "execution_count": null,
   "metadata": {
    "collapsed": false
   },
   "outputs": [],
   "source": [
    "a = [[1,3],[2,6],[8,10],[15,18]]\n",
    "out = []\n",
    "count = 1\n",
    "for i in sorted(a, key = lambda x: x[0]):\n",
    "    if out and i[0]<= out[-1][1]:\n",
    "        out[-1][1]=max(out[-1][1],i[1])\n",
    "        count +=1\n",
    "        print out, count\n",
    "    else:\n",
    "        out += i,\n",
    "        print out, count\n",
    "sorted(a)"
   ]
  },
  {
   "cell_type": "code",
   "execution_count": null,
   "metadata": {
    "collapsed": false
   },
   "outputs": [],
   "source": [
    "out"
   ]
  },
  {
   "cell_type": "markdown",
   "metadata": {},
   "source": [
    "## 7.b Interval Intersection\n",
    "Find Maximum no and time of Parallel Threads"
   ]
  },
  {
   "cell_type": "code",
   "execution_count": null,
   "metadata": {
    "collapsed": false
   },
   "outputs": [],
   "source": [
    "a = [[1,5],[1,4],[8,10],[15,18]]\n",
    "\n",
    "out = {}\n",
    "count = 1\n",
    "def find_max_intersecting_intervals(intervals):\n",
    "    sorted_startTimes = sorted(intervals, key = lambda x: (x[0],x[1]))\n",
    "    for i in sorted_startTimes:\n",
    "        if out and i[0]<=out[-1][1]:\n",
    "            print \"blah\"\n",
    "        else:\n",
    "            out += i\n",
    "            "
   ]
  },
  {
   "cell_type": "markdown",
   "metadata": {},
   "source": [
    "## 6. Wildcard Matching"
   ]
  },
  {
   "cell_type": "code",
   "execution_count": null,
   "metadata": {
    "collapsed": true
   },
   "outputs": [],
   "source": [
    "s = \"aa\"\n",
    "p = \"*b\""
   ]
  },
  {
   "cell_type": "code",
   "execution_count": null,
   "metadata": {
    "collapsed": false
   },
   "outputs": [],
   "source": [
    "def blah():\n",
    "    if len(p) - p.count('*') > len(s):\n",
    "        return False\n",
    "        m, n = len(s), len(p)\n",
    "        i = j = 0\n",
    "        star = match = None\n",
    "        while i < m:\n",
    "            if j < n and (p[j] == '?' or s[i] == p[j]):\n",
    "                i += 1\n",
    "                j += 1\n",
    "\n",
    "            elif j < n and p[j] == '*':\n",
    "                star = j\n",
    "                j += 1\n",
    "                match = i\n",
    "\n",
    "            elif star is not None:\n",
    "                j = star + 1\n",
    "                match += 1\n",
    "                i = match\n",
    "\n",
    "            else:\n",
    "                return False\n",
    "\n",
    "        return all(p[k] == '*' for k in range(j, n))"
   ]
  },
  {
   "cell_type": "code",
   "execution_count": null,
   "metadata": {
    "collapsed": false
   },
   "outputs": [],
   "source": [
    "a = blah()\n",
    "a"
   ]
  },
  {
   "cell_type": "markdown",
   "metadata": {
    "collapsed": true
   },
   "source": [
    "## 9. a) TwoSum"
   ]
  },
  {
   "cell_type": "code",
   "execution_count": null,
   "metadata": {
    "collapsed": true
   },
   "outputs": [],
   "source": [
    "a = [1,5,3,4,2]\n",
    "k = 7"
   ]
  },
  {
   "cell_type": "code",
   "execution_count": null,
   "metadata": {
    "collapsed": false
   },
   "outputs": [],
   "source": [
    "def twosum(a,k):\n",
    "    hash_map = {}\n",
    "    count = 0\n",
    "    for i in range(len(a)):\n",
    "        if a[i] in hash_map:\n",
    "            print hash_map[a[i]], i\n",
    "            count+=1\n",
    "        else:\n",
    "            hash_map[k - a[i]]=i\n",
    "    print hash_map    \n",
    "    return count\n",
    "\n",
    "twosum(a,k)  "
   ]
  },
  {
   "cell_type": "markdown",
   "metadata": {},
   "source": [
    "## 9. b) Three sum"
   ]
  },
  {
   "cell_type": "code",
   "execution_count": null,
   "metadata": {
    "collapsed": true
   },
   "outputs": [],
   "source": [
    "a = [-1,-2,3,4,5]\n",
    "target = 0"
   ]
  },
  {
   "cell_type": "code",
   "execution_count": null,
   "metadata": {
    "collapsed": false
   },
   "outputs": [],
   "source": [
    "def threeSum(nums):\n",
    "    if len(nums) <3: \n",
    "        return []\n",
    "    elif len(nums) == 3:\n",
    "        if sum(nums) == 0:\n",
    "            return [sorted(nums)]\n",
    "    nums.sort()\n",
    "    res = []\n",
    "    for i in list(range(len(nums)-2)):\n",
    "        if i > 0 and nums[i] == nums[i-1]: # avoid duplication\n",
    "            continue\n",
    "        j = i + 1\n",
    "        k = len(nums) - 1\n",
    "        while j < k:\n",
    "            if j > i + 1 and nums[j] == nums[j-1]: # avoid duplication\n",
    "                j += 1\n",
    "                continue\n",
    "            if k < len(nums) - 1 and nums[k] == nums[k+1]: # avoid duplication\n",
    "                k -= 1\n",
    "                continue\n",
    "            if nums[i] + nums[j] + nums[k] == 0:\n",
    "                res.append([nums[i],nums[j],nums[k]])\n",
    "            if nums[i] + nums[j] + nums[k] < 0:\n",
    "                j += 1\n",
    "            else:\n",
    "                k -= 1\n",
    "    return res"
   ]
  },
  {
   "cell_type": "code",
   "execution_count": null,
   "metadata": {
    "collapsed": false
   },
   "outputs": [],
   "source": [
    "threeSum(a)"
   ]
  },
  {
   "cell_type": "markdown",
   "metadata": {},
   "source": [
    "## 9. c) Foursum"
   ]
  },
  {
   "cell_type": "code",
   "execution_count": null,
   "metadata": {
    "collapsed": true
   },
   "outputs": [],
   "source": [
    "def twoSum(a):\n",
    "    hash_map = {}\n",
    "    total = sum(a)\n",
    "    for i in range(len(a)):\n",
    "        if a[i] in hash_map:\n",
    "            return (hash_map[a[i]], i)\n",
    "        else:\n",
    "            hash_map[target - a[i]]=i\n"
   ]
  },
  {
   "cell_type": "code",
   "execution_count": null,
   "metadata": {
    "collapsed": false
   },
   "outputs": [],
   "source": [
    "def fourSum(nums, target):\n",
    "    def findNsum(nums, target, N, result, results):\n",
    "        if len(nums) < N or N < 2 or target < nums[0]*N or target > nums[-1]*N:  # early termination\n",
    "            return\n",
    "        if N == 2: # two pointers solve sorted 2-sum problem\n",
    "            l,r = 0,len(nums)-1\n",
    "            while l < r:\n",
    "                s = nums[l] + nums[r]\n",
    "                if s == target:\n",
    "                    results.append(result + [nums[l], nums[r]])\n",
    "                    l += 1\n",
    "                    while l < r and nums[l] == nums[l-1]:\n",
    "                        l += 1\n",
    "                elif s < target:\n",
    "                    l += 1\n",
    "                else:\n",
    "                    r -= 1\n",
    "        else: # recursively reduce N\n",
    "            for i in range(len(nums)-N+1):\n",
    "                if i == 0 or (i > 0 and nums[i-1] != nums[i]):\n",
    "                    findNsum(nums[i+1:], target-nums[i], N-1, result+[nums[i]], results)\n",
    "\n",
    "    results = []\n",
    "    findNsum(sorted(nums), target, 4, [], results)\n",
    "    return results\n",
    "\n",
    "nums = [-4,-3,3,4,0,1,2]\n",
    "target = 0\n",
    "fourSum(nums, target)"
   ]
  },
  {
   "cell_type": "code",
   "execution_count": null,
   "metadata": {
    "collapsed": true
   },
   "outputs": [],
   "source": []
  },
  {
   "cell_type": "code",
   "execution_count": null,
   "metadata": {
    "collapsed": false
   },
   "outputs": [],
   "source": [
    "a = [6,7,8,9,10]\n",
    "import itertools\n",
    "import collections\n",
    "two_sum = collections.defaultdict(list)\n",
    "for (n1, i1), (n2, i2) in itertools.combinations(enumerate(a), 2):\n",
    "    two_sum[i1+i2].append({n1, n2})\n",
    "two_sum"
   ]
  },
  {
   "cell_type": "code",
   "execution_count": null,
   "metadata": {
    "collapsed": true
   },
   "outputs": [],
   "source": [
    "def twoSumSorted(nums, target):\n",
    "    l,r = 0,len(nums)-1\n",
    "    while l < r:\n",
    "        s = nums[l] + nums[r]\n",
    "        if s == target:\n",
    "            return [l,r]\n",
    "        elif s < target:\n",
    "            l += 1\n",
    "        else:\n",
    "            r -= 1"
   ]
  },
  {
   "cell_type": "code",
   "execution_count": null,
   "metadata": {
    "collapsed": false
   },
   "outputs": [],
   "source": [
    "twoSumSorted([0,0,3,2],0)"
   ]
  },
  {
   "cell_type": "code",
   "execution_count": null,
   "metadata": {
    "collapsed": false
   },
   "outputs": [],
   "source": [
    "a = \"hackerrank\"\n",
    "b = \"r\"\n",
    "\n",
    "set(a[:6])-set(a[6])"
   ]
  },
  {
   "cell_type": "markdown",
   "metadata": {},
   "source": [
    "## 9d) Foursum in lists"
   ]
  },
  {
   "cell_type": "code",
   "execution_count": null,
   "metadata": {
    "collapsed": false
   },
   "outputs": [],
   "source": [
    "import collections\n",
    "def fourSumCount(A, B, C, D):\n",
    "    AB = collections.Counter(a+b for a in A for b in B)\n",
    "    print AB\n",
    "    return sum(AB[-c-d] for c in C for d in D)\n",
    "\n",
    "A = [ 1, 2]\n",
    "B = [-2,-1]\n",
    "C = [-1, 2]\n",
    "D = [ 0, 2]\n",
    "\n",
    "fourSumCount(A, B, C, D)"
   ]
  },
  {
   "cell_type": "markdown",
   "metadata": {},
   "source": [
    "## 10) Threesum Closest"
   ]
  },
  {
   "cell_type": "code",
   "execution_count": null,
   "metadata": {
    "collapsed": false
   },
   "outputs": [],
   "source": [
    "a = [2,2,5,3]\n",
    "target = 8\n",
    "\n",
    "def threeSum(nums, target):\n",
    "    if len(nums) <3: \n",
    "        return None\n",
    "    elif len(nums) == 3:\n",
    "        return sum(nums)\n",
    "    nums.sort()\n",
    "    result = nums[0] + nums[1] + nums[2]\n",
    "    print \"result: \"+str(result)\n",
    "    for i in list(range(len(nums)-2)):\n",
    "        if i > 0 and nums[i] == nums[i-1]: # avoid duplication\n",
    "            continue\n",
    "        j = i + 1\n",
    "        k = len(nums) - 1\n",
    "        while j < k:\n",
    "            current_sum = nums[i] + nums[j] + nums[k]\n",
    "            print \"current_sum: \" + str(current_sum) + \" target: \" + str(target) + \" result: \" + str(result)\n",
    "            print \"current_sum - target: \"+str(current_sum - target)\n",
    "            print \"result - target: \"+str(result - target)\n",
    "            if j > i + 1 and nums[j] == nums[j-1]: # avoid duplication\n",
    "                j += 1\n",
    "                continue\n",
    "            if k < len(nums) - 1 and nums[k] == nums[k+1]: # avoid duplication\n",
    "                k -= 1\n",
    "                continue\n",
    "            if abs(current_sum - target) < abs(result - target):\n",
    "                result = current_sum\n",
    "                print \"modifying\"\n",
    "            if current_sum < target:\n",
    "                j += 1\n",
    "            else:\n",
    "                k -= 1\n",
    "    return result\n",
    "\n",
    "threeSum(a, 8)"
   ]
  },
  {
   "cell_type": "markdown",
   "metadata": {},
   "source": [
    "## Combinations"
   ]
  },
  {
   "cell_type": "code",
   "execution_count": null,
   "metadata": {
    "collapsed": true
   },
   "outputs": [],
   "source": [
    "def combinations(n, k):\n",
    "    combs = []\n",
    "    print \"before append: n, k, start, i, comb, combs\"\n",
    "    combine(1, n, k,[],combs)\n",
    "    return combs\n",
    "\n",
    "def combine(start, n, k, comb, combs):\n",
    "    if k==0:\n",
    "        newComb = []+comb\n",
    "        combs.append(newComb)\n",
    "        return\n",
    "    for i in range(start,n-k+2):\n",
    "        print \"before append: \"+str((n,k,start,i,comb,combs))\n",
    "        comb.append(i)\n",
    "        print \"after append: \"+str((n,k,start,i,comb,combs))\n",
    "        combine(i+1, n, k-1, comb, combs)\n",
    "        print \"after recursion: \"+str((n,k,start,i,comb,combs))\n",
    "        comb.pop(len(comb)-1)\n",
    "        print \"after pop: \"+str((n,k,start,i,comb,combs))"
   ]
  },
  {
   "cell_type": "code",
   "execution_count": null,
   "metadata": {
    "collapsed": false
   },
   "outputs": [],
   "source": [
    "combinations(4,2)"
   ]
  },
  {
   "cell_type": "markdown",
   "metadata": {},
   "source": [
    "## Combination Sum"
   ]
  },
  {
   "cell_type": "code",
   "execution_count": null,
   "metadata": {
    "collapsed": true
   },
   "outputs": [],
   "source": [
    "## [10, 1, 2, 7, 6, 1, 5] and target 8\n",
    "nums = [10, 1, 2, 7, 6, 1, 5]\n",
    "target = 8\n",
    "\n",
    "sol = [\n",
    "  [1, 7],\n",
    "  [1, 2, 5],\n",
    "  [2, 6],\n",
    "  [1, 1, 6]\n",
    "]\n"
   ]
  },
  {
   "cell_type": "code",
   "execution_count": null,
   "metadata": {
    "collapsed": false
   },
   "outputs": [],
   "source": [
    "def dfs(nums, start, target, curr, results):\n",
    "    if target<0:\n",
    "        return\n",
    "    if target == 0:\n",
    "        results.append([]+curr)\n",
    "        return\n",
    "    for i in range(start, len(nums)):\n",
    "        if i>start and nums[i] == nums[i-1]:\n",
    "            continue\n",
    "        curr.append(nums[i])\n",
    "        dfs(nums,i+1,target-nums[i],curr,results)\n",
    "        curr.pop(len(curr)-1)\n",
    "            \n",
    "def combination_sum(nums,target):\n",
    "    results = []\n",
    "    dfs(sorted(nums), 0, target, [], results)\n",
    "    return results\n",
    "\n",
    "combination_sum(nums, target)"
   ]
  },
  {
   "cell_type": "code",
   "execution_count": 8,
   "metadata": {
    "collapsed": false
   },
   "outputs": [
    {
     "name": "stdout",
     "output_type": "stream",
     "text": [
      "[[1, 3]]\n",
      "[[1, 3], [2, 2], [3, 1]]\n"
     ]
    }
   ],
   "source": [
    "def combinationSum3(k, n):\n",
    "    def combine(k, start, target, curr, res):\n",
    "        if target <0:\n",
    "            return\n",
    "        if target == 0 and len(curr) == k:\n",
    "            res.append([]+curr)\n",
    "            return\n",
    "        for i in range(start,10):\n",
    "            curr.append(i)\n",
    "            combine(k, i+1, target-i, curr, res)\n",
    "            curr.pop(len(curr)-1)\n",
    "    res = []\n",
    "    combine(k, 1, n, [], res)\n",
    "    return res\n",
    "\n",
    "print combinationSum3(2,4)\n",
    "\n",
    "def permutationSum3(k, n):\n",
    "    def permute(k, start, target, curr, res):\n",
    "        if target <0:\n",
    "            return\n",
    "        if target == 0 and len(curr) == k:\n",
    "            res.append([]+curr)\n",
    "            return\n",
    "        for i in range(1,10):\n",
    "            curr.append(i)\n",
    "            permute(k, i+1, target-i, curr, res)\n",
    "            curr.pop(len(curr)-1)\n",
    "    res = []\n",
    "    permute(k, 1, n, [], res)\n",
    "    return res\n",
    "\n",
    "print permutationSum3(2,4)"
   ]
  },
  {
   "cell_type": "code",
   "execution_count": 17,
   "metadata": {
    "collapsed": false
   },
   "outputs": [
    {
     "data": {
      "text/plain": [
       "[[4, 2],\n",
       " [4, 1, 1],\n",
       " [2, 4],\n",
       " [2, 2, 2],\n",
       " [2, 2, 1, 1],\n",
       " [2, 1, 2, 1],\n",
       " [2, 1, 1, 2],\n",
       " [2, 1, 1, 1, 1],\n",
       " [1, 4, 1],\n",
       " [1, 2, 2, 1],\n",
       " [1, 2, 1, 2],\n",
       " [1, 2, 1, 1, 1],\n",
       " [1, 1, 4],\n",
       " [1, 1, 2, 2],\n",
       " [1, 1, 2, 1, 1],\n",
       " [1, 1, 1, 2, 1],\n",
       " [1, 1, 1, 1, 2],\n",
       " [1, 1, 1, 1, 1, 1]]"
      ]
     },
     "execution_count": 17,
     "metadata": {},
     "output_type": "execute_result"
    }
   ],
   "source": [
    "nums = [4,2,1]\n",
    "target = 6\n",
    "def combinationSum4(nums, target):\n",
    "    def combine(nums,target,curr,res):\n",
    "        if target<0:\n",
    "            return\n",
    "        if target == 0:\n",
    "            res.append([]+curr)\n",
    "            return\n",
    "        for i in range(0,len(nums)):\n",
    "            curr.append(nums[i])\n",
    "            combine(nums, target-nums[i], curr, res)\n",
    "            curr.pop(len(curr)-1)\n",
    "    res = []\n",
    "    combine(nums, target, [], res)\n",
    "    return res\n",
    "combinationSum4(nums, target)"
   ]
  },
  {
   "cell_type": "code",
   "execution_count": 21,
   "metadata": {
    "collapsed": false
   },
   "outputs": [
    {
     "data": {
      "text/plain": [
       "[(1, 1), (2, 1)]"
      ]
     },
     "execution_count": 21,
     "metadata": {},
     "output_type": "execute_result"
    }
   ],
   "source": [
    "from collections import Counter\n",
    "Counter([1,2,3]).most_common(2)"
   ]
  },
  {
   "cell_type": "markdown",
   "metadata": {},
   "source": [
    "# Duplicates/Unique number in list"
   ]
  },
  {
   "cell_type": "markdown",
   "metadata": {},
   "source": [
    "## each number appears X times except 1, that appears ONCE"
   ]
  },
  {
   "cell_type": "code",
   "execution_count": null,
   "metadata": {
    "collapsed": false
   },
   "outputs": [],
   "source": [
    "a = [1,1,1,3,2,2,3,4,5,6,5,6,5,6,3]\n",
    "def find_diff_appearance(nums,k):\n",
    "    ans = 0\n",
    "    for i in range(32):\n",
    "        bitSum = 0\n",
    "        for j in nums:\n",
    "            if ((j>>i)&1)==1:\n",
    "                bitSum+=1\n",
    "                bitSum%=3\n",
    "        if bitSum!=0:\n",
    "            #print \"ans: \"+str((bitSum<<i, ans, i))\n",
    "            ans |= bitSum<<i\n",
    "    return ans\n",
    "find_diff_appearance(a,3)"
   ]
  },
  {
   "cell_type": "code",
   "execution_count": null,
   "metadata": {
    "collapsed": true
   },
   "outputs": [],
   "source": [
    "##"
   ]
  },
  {
   "cell_type": "markdown",
   "metadata": {},
   "source": [
    "## Find unique char in string"
   ]
  },
  {
   "cell_type": "code",
   "execution_count": null,
   "metadata": {
    "collapsed": false
   },
   "outputs": [],
   "source": [
    "def isUnique(s):\n",
    "    if len(s)>26:\n",
    "        return False\n",
    "    checker = 0\n",
    "    for i in range(len(s)):\n",
    "        val = ord(s[i])-ord('a')\n",
    "        if checker&(1<<val) > 0:\n",
    "            return False\n",
    "        checker |= 1<<val\n",
    "    return True\n",
    "isUnique('abcdc')"
   ]
  },
  {
   "cell_type": "code",
   "execution_count": null,
   "metadata": {
    "collapsed": true
   },
   "outputs": [],
   "source": [
    "\n",
    "\n",
    "public static boolean isUniqueChars(String str) {\n",
    "    if (str.length() > 256) { // NOTE: Are you sure this isn't 26?\n",
    "        return false;\n",
    "    }\n",
    "    int checker = 0;\n",
    "    for (int i = 0; i < str.length(); i++) {\n",
    "        int val = str.charAt(i) - 'a';\n",
    "        if ((checker & (1 << val)) > 0) return false;\n",
    "        checker |= (1 << val);\n",
    "    }\n",
    "    return true;\n",
    "}"
   ]
  },
  {
   "cell_type": "markdown",
   "metadata": {},
   "source": [
    "## Sqrt without functions, using Newton's method with binary search"
   ]
  },
  {
   "cell_type": "code",
   "execution_count": null,
   "metadata": {
    "collapsed": false
   },
   "outputs": [],
   "source": [
    "def sqrt(n, precision=1):\n",
    "    lo, hi = 0.0, max(n, 1.0)\n",
    "    prev, mid = 0, (lo + hi) / 2.0\n",
    "    while abs(mid - prev) > precision:\n",
    "        if mid ** 2 > n:\n",
    "            hi = mid\n",
    "        else:\n",
    "            lo = mid\n",
    "        prev, mid = mid, (lo + hi) / 2.0\n",
    "    return mid\n",
    "sqrt(10)"
   ]
  },
  {
   "cell_type": "code",
   "execution_count": 4,
   "metadata": {
    "collapsed": false
   },
   "outputs": [
    {
     "data": {
      "text/plain": [
       "4"
      ]
     },
     "execution_count": 4,
     "metadata": {},
     "output_type": "execute_result"
    }
   ],
   "source": [
    "def sqrt(n):\n",
    "    lo, hi = 0, n\n",
    "    mid = (lo+hi)/2\n",
    "    while mid**2!=n:\n",
    "        if mid**2>n:\n",
    "            hi = mid\n",
    "        else:\n",
    "            lo = mid\n",
    "        mid = (lo+hi)/2\n",
    "    return mid\n",
    "sqrt(16)"
   ]
  },
  {
   "cell_type": "markdown",
   "metadata": {},
   "source": [
    "# LRU Cache\n"
   ]
  },
  {
   "cell_type": "code",
   "execution_count": null,
   "metadata": {
    "collapsed": true
   },
   "outputs": [],
   "source": [
    "class Node:\n",
    "    \n",
    "    def __init__(self, k, v):\n",
    "        self.key,self.val = k,v\n",
    "        self.prev = None\n",
    "        self.next = None\n",
    "    \n",
    "class LRUCache:\n",
    "    \n",
    "    def __init__(self, c):\n",
    "        self.capacity = c\n",
    "        self.hash_map = {}\n",
    "        self.head = Node(0,0)\n",
    "        self.tail = Node(0,0)\n",
    "        self.head.next = self.tail\n",
    "        self.tail.prev = self.head\n",
    "    \n",
    "    def get(self,key):\n",
    "        if key in self.hash_map:\n",
    "            #Remove from doubly linked list and add at tail\n",
    "            n = self.hash_map[key]\n",
    "            self._remove(n)\n",
    "            self._add(n)\n",
    "            return n.val\n",
    "        return -1\n",
    "    \n",
    "    def put(self,key, val):\n",
    "        if key in self.hash_map:\n",
    "            self._remove(self.hash_map[key])\n",
    "        n = Node(key,val)\n",
    "        self._add(n)\n",
    "        self.hash_map[key] = n\n",
    "        if len(self.hash_map)>self.capacity:\n",
    "            n = self.head.next\n",
    "            self._remove(n)\n",
    "            self.hash_map.pop(n.key)\n",
    "            \n",
    "    def _remove(self,node):\n",
    "        p,n = node.prev, node.next\n",
    "        p.next = n\n",
    "        n.prev = p\n",
    "        \n",
    "    def _add(self,node):\n",
    "        p = self.tail.prev\n",
    "        p.next = node\n",
    "        self.tail.prev = node\n",
    "        node.prev = p\n",
    "        node.next = self.tail\n",
    "            \n",
    "            "
   ]
  },
  {
   "cell_type": "code",
   "execution_count": null,
   "metadata": {
    "collapsed": false
   },
   "outputs": [],
   "source": [
    "cache = LRUCache(2)\n",
    "\n",
    "cache.put(1, 1)\n",
    "cache.put(2, 2)\n",
    "print cache.get(1)        # returns 1\n",
    "print cache.put(3, 3)     # evicts key 2\n",
    "print cache.get(2)        # returns -1 (not found)\n",
    "print cache.put(4, 4)     # evicts key 1\n",
    "print cache.get(1)        # returns -1 (not found)\n",
    "print cache.get(3)        # returns 3\n",
    "cache.get(4)        # returns 4"
   ]
  },
  {
   "cell_type": "markdown",
   "metadata": {},
   "source": [
    "## 3. Isomorphic Strings"
   ]
  },
  {
   "cell_type": "code",
   "execution_count": null,
   "metadata": {
    "collapsed": false
   },
   "outputs": [],
   "source": [
    "s, t= \"eggquhksdu@@:'h82shss\", \"add\"\n",
    "map(s.find, s) == map(t.find, t)\n"
   ]
  },
  {
   "cell_type": "markdown",
   "metadata": {},
   "source": [
    "## 4. Word Ladder"
   ]
  },
  {
   "cell_type": "code",
   "execution_count": null,
   "metadata": {
    "collapsed": true
   },
   "outputs": [],
   "source": [
    "beginWord = \"hit\"\n",
    "endWord = \"cog\"\n",
    "wordList = [\"hot\",\"dot\",\"dog\",\"lot\",\"log\"]"
   ]
  },
  {
   "cell_type": "code",
   "execution_count": null,
   "metadata": {
    "collapsed": true
   },
   "outputs": [],
   "source": [
    "def findLadders(begin, end, words_list):\n",
    "    \"\"\"\n",
    "    :type beginWord: str\n",
    "    :type endWord: str\n",
    "    :type wordlist: Set[str]\n",
    "    :rtype: List[List[int]]\n",
    "    \"\"\"\n",
    "    def construct_paths(source, dest, tree):\n",
    "        if source == dest: \n",
    "            return [[source]]\n",
    "        return [[source] + path for succ in tree[source]\n",
    "                                for path in construct_paths(succ, dest, tree)]\n",
    "\n",
    "    def add_path(tree, word, neigh, is_forw):\n",
    "        if is_forw: tree[word]  += neigh,\n",
    "        else:       tree[neigh] += word,\n",
    "\n",
    "    def bfs_level(this_lev, oth_lev, tree, is_forw, words_set):\n",
    "        if not this_lev: return False\n",
    "        if len(this_lev) > len(oth_lev):\n",
    "            return bfs_level(oth_lev, this_lev, tree, not is_forw, words_set)\n",
    "        for word in (this_lev | oth_lev):\n",
    "            words_set.discard(word)\n",
    "        next_lev, done = set(), False\n",
    "        while this_lev:\n",
    "            word = this_lev.pop()\n",
    "            for c in string.ascii_lowercase:\n",
    "                for index in range(len(word)):\n",
    "                    neigh = word[:index] + c + word[index+1:]\n",
    "                    if neigh in oth_lev:\n",
    "                        done = True\n",
    "                        add_path(tree, word, neigh, is_forw)                \n",
    "                    if not done and neigh in words_set:\n",
    "                        next_lev.add(neigh)\n",
    "                        add_path(tree, word, neigh, is_forw)\n",
    "        return done or bfs_level(next_lev, oth_lev, tree, is_forw, words_set)\n",
    "\n",
    "    tree, path, paths = collections.defaultdict(list), [begin], []\n",
    "    is_found = bfs_level(set([begin]), set([end]), tree, True, words_list)\n",
    "    return construct_paths(begin, end, tree)"
   ]
  },
  {
   "cell_type": "markdown",
   "metadata": {},
   "source": [
    "## 72. Max of Moving Window"
   ]
  },
  {
   "cell_type": "code",
   "execution_count": null,
   "metadata": {
    "collapsed": false
   },
   "outputs": [],
   "source": [
    "def maxSlidingWindow(nums, k):\n",
    "    \"\"\"\n",
    "    :type nums: List[int]\n",
    "    :type k: int\n",
    "    :rtype: List[int]\n",
    "    \"\"\"\n",
    "    import collections\n",
    "    double_ended_queue = collections.deque()\n",
    "    output = []\n",
    "    for i in range(len(nums)):\n",
    "        while double_ended_queue and nums[double_ended_queue[-1]] < nums[i]:\n",
    "            double_ended_queue.pop()\n",
    "        double_ended_queue += i,\n",
    "        if double_ended_queue[0] == i-k:\n",
    "            double_ended_queue.popleft()\n",
    "        if i>= k-1:\n",
    "            output += nums[double_ended_queue[0]],\n",
    "    return output\n",
    "\n",
    "maxSlidingWindow([-1,3,-1,2,5,3], 3)"
   ]
  },
  {
   "cell_type": "markdown",
   "metadata": {},
   "source": [
    "## 5. Median of Two Sorted Arrays:"
   ]
  },
  {
   "cell_type": "code",
   "execution_count": null,
   "metadata": {
    "collapsed": false
   },
   "outputs": [],
   "source": [
    "a = float(5)\n",
    "import math\n",
    "math.ceil(a/2)"
   ]
  },
  {
   "cell_type": "code",
   "execution_count": null,
   "metadata": {
    "collapsed": false
   },
   "outputs": [],
   "source": [
    "float(5)/2"
   ]
  },
  {
   "cell_type": "code",
   "execution_count": null,
   "metadata": {
    "collapsed": true
   },
   "outputs": [],
   "source": [
    "a = []\n",
    "b = [2,5]"
   ]
  },
  {
   "cell_type": "code",
   "execution_count": null,
   "metadata": {
    "collapsed": false
   },
   "outputs": [],
   "source": [
    "merged = sorted(a+b)\n",
    "print merged\n",
    "len_merged = float(len(merged))\n",
    "print len_merged\n",
    "int(math.floor(len_merged/2))"
   ]
  },
  {
   "cell_type": "code",
   "execution_count": null,
   "metadata": {
    "collapsed": false
   },
   "outputs": [],
   "source": [
    "int(len_merged/2)"
   ]
  },
  {
   "cell_type": "code",
   "execution_count": null,
   "metadata": {
    "collapsed": false
   },
   "outputs": [],
   "source": [
    "if len_merged%2==0:\n",
    "    print \"a\"\n",
    "    print float(merged[int((len_merged-1)/2)]+merged[int((len_merged-1)/2)+1])/2\n",
    "else: \n",
    "    #print \"b\"\n",
    "    print merged[int(math.ceil(len_merged-1/2))]"
   ]
  },
  {
   "cell_type": "markdown",
   "metadata": {
    "collapsed": true
   },
   "source": [
    "## Rock Collections"
   ]
  },
  {
   "cell_type": "code",
   "execution_count": null,
   "metadata": {
    "collapsed": false
   },
   "outputs": [],
   "source": [
    "from collections import Counter\n",
    "def get_rock_index(j):\n",
    "    if not j:\n",
    "        return 0\n",
    "    n = sorted(j)\n",
    "    g = [j[i]+n[i] for i,v in enumerate(j)]\n",
    "    most_common = Counter(g).most_common()\n",
    "    highest_freq = most_common[0][1]\n",
    "    high_values = [i[0] for i in most_common if i[1] == highest_freq]\n",
    "    high = max(high_values)   \n",
    "    index = 0\n",
    "    for i,v in enumerate(g):\n",
    "        if v ==high:\n",
    "            index = i\n",
    "    return index"
   ]
  },
  {
   "cell_type": "code",
   "execution_count": null,
   "metadata": {
    "collapsed": false
   },
   "outputs": [],
   "source": [
    "j = [10,10,7,7,7,2,7,2]\n",
    "get_rock_index(j)"
   ]
  },
  {
   "cell_type": "markdown",
   "metadata": {},
   "source": [
    "## Sieve of Eratosthenes - All prime numbers from 1 to n"
   ]
  },
  {
   "cell_type": "code",
   "execution_count": null,
   "metadata": {
    "collapsed": false
   },
   "outputs": [],
   "source": [
    "import math\n",
    "def primes(n):\n",
    "    j = 2\n",
    "    arr = [i for i in range(n)]\n",
    "    for i in range(2,int(math.sqrt(n))+1):\n",
    "        if arr[i] != False:\n",
    "            for j in range(i*2, n, i):\n",
    "                arr[j] = False\n",
    "    print [i for i in arr if i is not False]\n",
    "primes(100)"
   ]
  },
  {
   "cell_type": "markdown",
   "metadata": {},
   "source": [
    "## Spiral Matrix"
   ]
  },
  {
   "cell_type": "code",
   "execution_count": null,
   "metadata": {
    "collapsed": false
   },
   "outputs": [],
   "source": [
    "grid = [\n",
    "    [ 1, 2, 3, 4],\n",
    "    [ 5, 6, 7, 8],\n",
    "    [ 9,10,11,12],\n",
    "    [13,14,15,16]\n",
    "    ]\n",
    "def spiral(grid):\n",
    "    i,j = 0,0\n",
    "    di,dj = 0,1\n",
    "    m,n = len(grid),len(grid[0])\n",
    "    res=[]\n",
    "    for x in range(m*n):\n",
    "        res.append(grid[i][j])\n",
    "        grid[i][j] = True\n",
    "        if grid[(i+di)%m][(j+dj)%n] == True:\n",
    "            di,dj = dj,-di\n",
    "        i+=di\n",
    "        j+=dj\n",
    "    return grid, res\n",
    "\n",
    "spiral(grid)"
   ]
  },
  {
   "cell_type": "markdown",
   "metadata": {},
   "source": [
    "## Reverse an integer"
   ]
  },
  {
   "cell_type": "code",
   "execution_count": null,
   "metadata": {
    "collapsed": false
   },
   "outputs": [],
   "source": [
    "n = 1230\n",
    "res=0\n",
    "while n>0:\n",
    "    x = n%10\n",
    "    n = n/10\n",
    "    res=res*10+x\n",
    "res"
   ]
  },
  {
   "cell_type": "markdown",
   "metadata": {},
   "source": [
    "## Move zeroes to end"
   ]
  },
  {
   "cell_type": "code",
   "execution_count": null,
   "metadata": {
    "collapsed": false
   },
   "outputs": [],
   "source": [
    "a = [0,1,0,1,1,0]\n",
    "i,j = 0,len(a)-1\n",
    "while i<j:\n",
    "    if a[j]>a[i]:\n",
    "        a[j],a[i] = a[i],a[j]\n",
    "        i+=1\n",
    "        j-=1\n",
    "    elif a[j]==0 and a[i]==0:\n",
    "        j-=1\n",
    "    else:\n",
    "        i+=1\n",
    "a"
   ]
  },
  {
   "cell_type": "markdown",
   "metadata": {},
   "source": [
    "# Palindrome Questions"
   ]
  },
  {
   "cell_type": "markdown",
   "metadata": {},
   "source": [
    "## Check if Palindrome String"
   ]
  },
  {
   "cell_type": "code",
   "execution_count": null,
   "metadata": {
    "collapsed": false
   },
   "outputs": [],
   "source": [
    "s = \"anna\"\n",
    "def isPalindrome(s):\n",
    "    i,j = 0, len(s)-1\n",
    "    while i<j:\n",
    "        if s[i]==s[j]:\n",
    "            i+=1\n",
    "            j-=1\n",
    "        else:\n",
    "            return False\n",
    "    return True\n",
    "isPalindrome(s)"
   ]
  },
  {
   "cell_type": "markdown",
   "metadata": {},
   "source": [
    "## Check if Palindrome Number"
   ]
  },
  {
   "cell_type": "code",
   "execution_count": null,
   "metadata": {
    "collapsed": false
   },
   "outputs": [],
   "source": [
    "n = 1551\n",
    "def isPalindrome(n):\n",
    "    r = 0\n",
    "    o = n\n",
    "    while n>0:\n",
    "        x = n%10\n",
    "        n = n/10\n",
    "        r = 10*r+x\n",
    "    #print o, r\n",
    "    return r == o\n",
    "isPalindrome(n)"
   ]
  },
  {
   "cell_type": "markdown",
   "metadata": {},
   "source": [
    "## Longest Possible Palindrome Length"
   ]
  },
  {
   "cell_type": "code",
   "execution_count": null,
   "metadata": {
    "collapsed": false
   },
   "outputs": [],
   "source": [
    "s = \"ccd\"\n",
    "import collections\n",
    "def longestPalindromeLength(s):\n",
    "    counter = collections.Counter(s)\n",
    "    count = 0\n",
    "    for i in counter:\n",
    "        #print i, counter[i]\n",
    "        count+=(counter[i]/2)*2\n",
    "        counter[i]%=2\n",
    "        #print i, counter[i]\n",
    "    for i in counter:\n",
    "        print i, counter[i]\n",
    "        if counter[i]>0:\n",
    "            count += 1\n",
    "            break\n",
    "    return count\n",
    "\n",
    "longestPalindromeLength(s)"
   ]
  },
  {
   "cell_type": "markdown",
   "metadata": {},
   "source": [
    "## Longest Palindrome Substring"
   ]
  },
  {
   "cell_type": "code",
   "execution_count": null,
   "metadata": {
    "collapsed": false
   },
   "outputs": [],
   "source": [
    "import numpy as np\n",
    "string = \"abba\"\n",
    "def find_longest_palindrome(string):\n",
    "    max_count = 0\n",
    "    max_string = \"\"\n",
    "    for i in np.arange(0, float(len(string)), 0.5):\n",
    "        #print i\n",
    "        new_string = \"\"\n",
    "        count = 0\n",
    "        if i%0.5==0:\n",
    "            new_string = string[int(i)]\n",
    "            count += 1\n",
    "        x = i-0.5\n",
    "        y = i+0.5\n",
    "        print x, y, int(x), int(y), x%1\n",
    "        if x%1 == 0:\n",
    "            x,y = int(x),int(y)\n",
    "        else:\n",
    "            x,y = int(x), int(y)+1\n",
    "        #print x, y\n",
    "        while x>=0 and y<=len(string)-1 and string[x] == string[y]:\n",
    "            x-=1\n",
    "            y+=1\n",
    "            count+=2\n",
    "            new_string = string[x+1:y]\n",
    "            #print x, y, count\n",
    "        if count > max_count:\n",
    "            max_count = count\n",
    "            max_string = new_string\n",
    "    return max_count, max_string\n",
    "\n",
    "find_longest_palindrome(string)"
   ]
  },
  {
   "cell_type": "markdown",
   "metadata": {},
   "source": [
    "## Longest Palindrome Subsequence"
   ]
  },
  {
   "cell_type": "code",
   "execution_count": null,
   "metadata": {
    "collapsed": false
   },
   "outputs": [],
   "source": [
    "a = \"abcbda\"\n",
    "\n",
    "def longest_palin_subseq_2d(s):\n",
    "    n = len(s)\n",
    "    res = [[0 for x in range(n)] for y in range(n)]\n",
    "    for i in range(n):\n",
    "        res[i][i] = 1\n",
    "    for l in range(1,n):\n",
    "        for i in range(n):\n",
    "            j=i+l\n",
    "            if l+i<n:\n",
    "                #print s[i],s[l+i], i, i+l\n",
    "                if s[i]==s[j]:\n",
    "                    if l == 1:\n",
    "                        res[i][j] = 2\n",
    "                    else:\n",
    "                        res[i][j] = 2 + res[i+1][j-1]\n",
    "                else:\n",
    "                    res[i][j] = max(res[i][j-1], res[i+1][j])\n",
    "    #return res\n",
    "    i, j = 0, n-1\n",
    "    palin_sub=[-1 for x in range(n)]\n",
    "    while res[i][j] > 0:\n",
    "        print res[i][j], i, j, s[i], s[j]\n",
    "        if res[i][j]>res[i][j-1] and res[i][j]>res[i+1][j]:\n",
    "            palin_sub[i] = s[i]\n",
    "            palin_sub[j] = s[j]\n",
    "            print palin_sub\n",
    "            i+=1\n",
    "            j-=1\n",
    "        else:\n",
    "            if (res[i][j-1] >= res[i+1][j]):\n",
    "                j-=1\n",
    "            else:\n",
    "                i+=1\n",
    "    print res[i][j], i, j, s[i], s[j]\n",
    "    return palin_sub, res, ''.join([i for i in palin_sub if i!=-1])\n",
    "longest_palin_subseq_2d(a)"
   ]
  }
 ],
 "metadata": {
  "kernelspec": {
   "display_name": "Python 2",
   "language": "python",
   "name": "python2"
  },
  "language_info": {
   "codemirror_mode": {
    "name": "ipython",
    "version": 2
   },
   "file_extension": ".py",
   "mimetype": "text/x-python",
   "name": "python",
   "nbconvert_exporter": "python",
   "pygments_lexer": "ipython2",
   "version": "2.7.12"
  }
 },
 "nbformat": 4,
 "nbformat_minor": 0
}
